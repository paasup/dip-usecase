{
 "cells": [
  {
   "cell_type": "code",
   "execution_count": 1,
   "id": "6cad3b72-1e63-428c-92b4-7faf23dfde19",
   "metadata": {},
   "outputs": [
    {
     "name": "stdout",
     "output_type": "stream",
     "text": [
      ":: loading settings :: url = jar:file:/usr/local/spark-3.5.2-bin-hadoop3/jars/ivy-2.5.1.jar!/org/apache/ivy/core/settings/ivysettings.xml\n"
     ]
    },
    {
     "name": "stderr",
     "output_type": "stream",
     "text": [
      "Ivy Default Cache set to: /home/jovyan/.ivy2/cache\n",
      "The jars for the packages stored in: /home/jovyan/.ivy2/jars\n",
      "org.apache.hadoop#hadoop-common added as a dependency\n",
      "org.apache.hadoop#hadoop-aws added as a dependency\n",
      "com.amazonaws#aws-java-sdk added as a dependency\n",
      "io.delta#delta-spark_2.12 added as a dependency\n",
      "org.postgresql#postgresql added as a dependency\n",
      ":: resolving dependencies :: org.apache.spark#spark-submit-parent-f43b470f-32e1-44ad-92af-3d3f0af63b95;1.0\n",
      "\tconfs: [default]\n",
      "\tfound org.apache.hadoop#hadoop-common;3.3.4 in central\n",
      "\tfound org.apache.hadoop.thirdparty#hadoop-shaded-protobuf_3_7;1.1.1 in central\n",
      "\tfound org.apache.hadoop#hadoop-annotations;3.3.4 in central\n",
      "\tfound org.apache.hadoop.thirdparty#hadoop-shaded-guava;1.1.1 in central\n",
      "\tfound com.google.guava#guava;27.0-jre in central\n",
      "\tfound com.google.guava#failureaccess;1.0 in central\n",
      "\tfound com.google.guava#listenablefuture;9999.0-empty-to-avoid-conflict-with-guava in central\n",
      "\tfound com.google.code.findbugs#jsr305;3.0.2 in central\n",
      "\tfound org.checkerframework#checker-qual;2.5.2 in central\n",
      "\tfound com.google.j2objc#j2objc-annotations;1.1 in central\n",
      "\tfound org.codehaus.mojo#animal-sniffer-annotations;1.17 in central\n",
      "\tfound commons-cli#commons-cli;1.2 in central\n",
      "\tfound org.apache.commons#commons-math3;3.1.1 in central\n",
      "\tfound org.apache.httpcomponents#httpclient;4.5.13 in central\n",
      "\tfound org.apache.httpcomponents#httpcore;4.4.13 in central\n",
      "\tfound commons-logging#commons-logging;1.1.3 in central\n",
      "\tfound commons-codec#commons-codec;1.15 in central\n",
      "\tfound commons-io#commons-io;2.8.0 in central\n",
      "\tfound commons-net#commons-net;3.6 in central\n",
      "\tfound commons-collections#commons-collections;3.2.2 in central\n",
      "\tfound javax.servlet#javax.servlet-api;3.1.0 in central\n",
      "\tfound org.eclipse.jetty#jetty-server;9.4.43.v20210629 in central\n",
      "\tfound org.eclipse.jetty#jetty-http;9.4.43.v20210629 in central\n",
      "\tfound org.eclipse.jetty#jetty-util;9.4.43.v20210629 in central\n",
      "\tfound org.eclipse.jetty#jetty-io;9.4.43.v20210629 in central\n",
      "\tfound org.eclipse.jetty#jetty-servlet;9.4.43.v20210629 in central\n",
      "\tfound org.eclipse.jetty#jetty-security;9.4.43.v20210629 in central\n",
      "\tfound org.eclipse.jetty#jetty-util-ajax;9.4.43.v20210629 in central\n",
      "\tfound org.eclipse.jetty#jetty-webapp;9.4.43.v20210629 in central\n",
      "\tfound org.eclipse.jetty#jetty-xml;9.4.43.v20210629 in central\n",
      "\tfound com.sun.jersey#jersey-core;1.19 in central\n",
      "\tfound javax.ws.rs#jsr311-api;1.1.1 in central\n",
      "\tfound com.sun.jersey#jersey-servlet;1.19 in central\n",
      "\tfound com.sun.jersey#jersey-server;1.19 in central\n",
      "\tfound com.sun.jersey#jersey-json;1.19 in central\n",
      "\tfound org.codehaus.jettison#jettison;1.1 in central\n",
      "\tfound com.sun.xml.bind#jaxb-impl;2.2.3-1 in central\n",
      "\tfound javax.xml.bind#jaxb-api;2.2.11 in central\n",
      "\tfound org.codehaus.jackson#jackson-core-asl;1.9.13 in central\n",
      "\tfound org.codehaus.jackson#jackson-mapper-asl;1.9.13 in central\n",
      "\tfound org.codehaus.jackson#jackson-jaxrs;1.9.13 in central\n",
      "\tfound org.codehaus.jackson#jackson-xc;1.9.13 in central\n",
      "\tfound ch.qos.reload4j#reload4j;1.2.22 in central\n",
      "\tfound commons-beanutils#commons-beanutils;1.9.4 in central\n",
      "\tfound org.apache.commons#commons-configuration2;2.1.1 in central\n",
      "\tfound org.apache.commons#commons-lang3;3.12.0 in central\n",
      "\tfound org.apache.commons#commons-text;1.4 in central\n",
      "\tfound org.slf4j#slf4j-api;1.7.36 in central\n",
      "\tfound org.slf4j#slf4j-reload4j;1.7.36 in central\n",
      "\tfound org.apache.avro#avro;1.7.7 in central\n",
      "\tfound com.thoughtworks.paranamer#paranamer;2.3 in central\n",
      "\tfound org.xerial.snappy#snappy-java;1.1.8.2 in central\n",
      "\tfound org.apache.commons#commons-compress;1.21 in central\n",
      "\tfound com.google.re2j#re2j;1.1 in central\n",
      "\tfound com.google.protobuf#protobuf-java;2.5.0 in central\n",
      "\tfound com.google.code.gson#gson;2.8.9 in central\n",
      "\tfound org.apache.hadoop#hadoop-auth;3.3.4 in central\n",
      "\tfound com.nimbusds#nimbus-jose-jwt;9.8.1 in central\n",
      "\tfound com.github.stephenc.jcip#jcip-annotations;1.0-1 in central\n",
      "\tfound net.minidev#json-smart;2.4.7 in central\n",
      "\tfound net.minidev#accessors-smart;2.4.7 in central\n",
      "\tfound org.ow2.asm#asm;5.0.4 in central\n",
      "\tfound org.apache.zookeeper#zookeeper;3.5.6 in central\n",
      "\tfound org.apache.zookeeper#zookeeper-jute;3.5.6 in central\n",
      "\tfound org.apache.yetus#audience-annotations;0.5.0 in central\n",
      "\tfound org.apache.curator#curator-framework;4.2.0 in central\n",
      "\tfound org.apache.curator#curator-client;4.2.0 in central\n",
      "\tfound org.apache.kerby#kerb-simplekdc;1.0.1 in central\n",
      "\tfound org.apache.kerby#kerb-client;1.0.1 in central\n",
      "\tfound org.apache.kerby#kerby-config;1.0.1 in central\n",
      "\tfound org.apache.kerby#kerb-core;1.0.1 in central\n",
      "\tfound org.apache.kerby#kerby-pkix;1.0.1 in central\n",
      "\tfound org.apache.kerby#kerby-asn1;1.0.1 in central\n",
      "\tfound org.apache.kerby#kerby-util;1.0.1 in central\n",
      "\tfound org.apache.kerby#kerb-common;1.0.1 in central\n",
      "\tfound org.apache.kerby#kerb-crypto;1.0.1 in central\n",
      "\tfound org.apache.kerby#kerb-util;1.0.1 in central\n",
      "\tfound org.apache.kerby#token-provider;1.0.1 in central\n",
      "\tfound org.apache.kerby#kerb-admin;1.0.1 in central\n",
      "\tfound org.apache.kerby#kerb-server;1.0.1 in central\n",
      "\tfound org.apache.kerby#kerb-identity;1.0.1 in central\n",
      "\tfound org.apache.kerby#kerby-xdr;1.0.1 in central\n",
      "\tfound com.jcraft#jsch;0.1.55 in central\n",
      "\tfound org.apache.curator#curator-recipes;4.2.0 in central\n",
      "\tfound com.fasterxml.jackson.core#jackson-databind;2.12.7 in central\n",
      "\tfound com.fasterxml.jackson.core#jackson-annotations;2.12.7 in central\n",
      "\tfound com.fasterxml.jackson.core#jackson-core;2.12.7 in central\n",
      "\tfound org.codehaus.woodstox#stax2-api;4.2.1 in central\n",
      "\tfound com.fasterxml.woodstox#woodstox-core;5.3.0 in central\n",
      "\tfound dnsjava#dnsjava;2.1.7 in central\n",
      "\tfound jakarta.activation#jakarta.activation-api;1.2.1 in central\n",
      "\tfound javax.servlet.jsp#jsp-api;2.1 in central\n",
      "\tfound org.apache.hadoop#hadoop-aws;3.3.4 in central\n",
      "\tfound com.amazonaws#aws-java-sdk-bundle;1.12.262 in central\n",
      "\tfound org.wildfly.openssl#wildfly-openssl;1.0.7.Final in central\n",
      "\tfound com.amazonaws#aws-java-sdk;1.11.655 in central\n",
      "\tfound com.amazonaws#aws-java-sdk-workmailmessageflow;1.11.655 in central\n",
      "\tfound com.amazonaws#aws-java-sdk-core;1.11.655 in central\n",
      "\tfound software.amazon.ion#ion-java;1.0.2 in central\n",
      "\tfound com.fasterxml.jackson.dataformat#jackson-dataformat-cbor;2.6.7 in central\n",
      "\tfound joda-time#joda-time;2.8.1 in central\n",
      "\tfound com.amazonaws#jmespath-java;1.11.655 in central\n",
      "\tfound com.amazonaws#aws-java-sdk-qldbsession;1.11.655 in central\n",
      "\tfound com.amazonaws#aws-java-sdk-qldb;1.11.655 in central\n",
      "\tfound com.amazonaws#aws-java-sdk-forecastquery;1.11.655 in central\n",
      "\tfound com.amazonaws#aws-java-sdk-forecast;1.11.655 in central\n",
      "\tfound com.amazonaws#aws-java-sdk-lakeformation;1.11.655 in central\n",
      "\tfound com.amazonaws#aws-java-sdk-eventbridge;1.11.655 in central\n",
      "\tfound com.amazonaws#aws-java-sdk-ec2instanceconnect;1.11.655 in central\n",
      "\tfound com.amazonaws#aws-java-sdk-applicationinsights;1.11.655 in central\n",
      "\tfound com.amazonaws#aws-java-sdk-servicequotas;1.11.655 in central\n",
      "\tfound com.amazonaws#aws-java-sdk-personalizeevents;1.11.655 in central\n",
      "\tfound com.amazonaws#aws-java-sdk-personalize;1.11.655 in central\n",
      "\tfound com.amazonaws#aws-java-sdk-personalizeruntime;1.11.655 in central\n",
      "\tfound com.amazonaws#aws-java-sdk-ioteventsdata;1.11.655 in central\n",
      "\tfound com.amazonaws#aws-java-sdk-iotevents;1.11.655 in central\n",
      "\tfound com.amazonaws#aws-java-sdk-iotthingsgraph;1.11.655 in central\n",
      "\tfound com.amazonaws#aws-java-sdk-groundstation;1.11.655 in central\n",
      "\tfound com.amazonaws#aws-java-sdk-mediapackagevod;1.11.655 in central\n",
      "\tfound com.amazonaws#aws-java-sdk-managedblockchain;1.11.655 in central\n",
      "\tfound com.amazonaws#aws-java-sdk-textract;1.11.655 in central\n",
      "\tfound com.amazonaws#aws-java-sdk-worklink;1.11.655 in central\n",
      "\tfound com.amazonaws#aws-java-sdk-backup;1.11.655 in central\n",
      "\tfound com.amazonaws#aws-java-sdk-docdb;1.11.655 in central\n",
      "\tfound com.amazonaws#aws-java-sdk-apigatewayv2;1.11.655 in central\n",
      "\tfound com.amazonaws#aws-java-sdk-apigatewaymanagementapi;1.11.655 in central\n",
      "\tfound com.amazonaws#aws-java-sdk-kafka;1.11.655 in central\n",
      "\tfound com.amazonaws#aws-java-sdk-appmesh;1.11.655 in central\n",
      "\tfound com.amazonaws#aws-java-sdk-licensemanager;1.11.655 in central\n",
      "\tfound com.amazonaws#aws-java-sdk-securityhub;1.11.655 in central\n",
      "\tfound com.amazonaws#aws-java-sdk-fsx;1.11.655 in central\n",
      "\tfound com.amazonaws#aws-java-sdk-mediaconnect;1.11.655 in central\n",
      "\tfound com.amazonaws#aws-java-sdk-kinesisanalyticsv2;1.11.655 in central\n",
      "\tfound com.amazonaws#aws-java-sdk-comprehendmedical;1.11.655 in central\n",
      "\tfound com.amazonaws#aws-java-sdk-globalaccelerator;1.11.655 in central\n",
      "\tfound com.amazonaws#aws-java-sdk-transfer;1.11.655 in central\n",
      "\tfound com.amazonaws#aws-java-sdk-datasync;1.11.655 in central\n",
      "\tfound com.amazonaws#aws-java-sdk-robomaker;1.11.655 in central\n",
      "\tfound com.amazonaws#aws-java-sdk-amplify;1.11.655 in central\n",
      "\tfound com.amazonaws#aws-java-sdk-quicksight;1.11.655 in central\n",
      "\tfound com.amazonaws#aws-java-sdk-rdsdata;1.11.655 in central\n",
      "\tfound com.amazonaws#aws-java-sdk-route53resolver;1.11.655 in central\n",
      "\tfound com.amazonaws#aws-java-sdk-ram;1.11.655 in central\n",
      "\tfound com.amazonaws#aws-java-sdk-s3control;1.11.655 in central\n",
      "\tfound com.amazonaws#aws-java-sdk-s3;1.11.655 in central\n",
      "\tfound com.amazonaws#aws-java-sdk-kms;1.11.655 in central\n",
      "\tfound com.amazonaws#aws-java-sdk-pinpointsmsvoice;1.11.655 in central\n",
      "\tfound com.amazonaws#aws-java-sdk-pinpointemail;1.11.655 in central\n",
      "\tfound com.amazonaws#aws-java-sdk-chime;1.11.655 in central\n",
      "\tfound com.amazonaws#aws-java-sdk-signer;1.11.655 in central\n",
      "\tfound com.amazonaws#aws-java-sdk-dlm;1.11.655 in central\n",
      "\tfound com.amazonaws#aws-java-sdk-macie;1.11.655 in central\n",
      "\tfound com.amazonaws#aws-java-sdk-eks;1.11.655 in central\n",
      "\tfound com.amazonaws#aws-java-sdk-mediatailor;1.11.655 in central\n",
      "\tfound com.amazonaws#aws-java-sdk-neptune;1.11.655 in central\n",
      "\tfound com.amazonaws#aws-java-sdk-pi;1.11.655 in central\n",
      "\tfound com.amazonaws#aws-java-sdk-iot1clickprojects;1.11.655 in central\n",
      "\tfound com.amazonaws#aws-java-sdk-iot1clickdevices;1.11.655 in central\n",
      "\tfound com.amazonaws#aws-java-sdk-iotanalytics;1.11.655 in central\n",
      "\tfound com.amazonaws#aws-java-sdk-acmpca;1.11.655 in central\n",
      "\tfound com.amazonaws#aws-java-sdk-secretsmanager;1.11.655 in central\n",
      "\tfound com.amazonaws#aws-java-sdk-fms;1.11.655 in central\n",
      "\tfound com.amazonaws#aws-java-sdk-connect;1.11.655 in central\n",
      "\tfound com.amazonaws#aws-java-sdk-transcribe;1.11.655 in central\n",
      "\tfound com.amazonaws#aws-java-sdk-autoscalingplans;1.11.655 in central\n",
      "\tfound com.amazonaws#aws-java-sdk-workmail;1.11.655 in central\n",
      "\tfound com.amazonaws#aws-java-sdk-servicediscovery;1.11.655 in central\n",
      "\tfound com.amazonaws#aws-java-sdk-cloud9;1.11.655 in central\n",
      "\tfound com.amazonaws#aws-java-sdk-serverlessapplicationrepository;1.11.655 in central\n",
      "\tfound com.amazonaws#aws-java-sdk-alexaforbusiness;1.11.655 in central\n",
      "\tfound com.amazonaws#aws-java-sdk-resourcegroups;1.11.655 in central\n",
      "\tfound com.amazonaws#aws-java-sdk-comprehend;1.11.655 in central\n",
      "\tfound com.amazonaws#aws-java-sdk-translate;1.11.655 in central\n",
      "\tfound com.amazonaws#aws-java-sdk-sagemaker;1.11.655 in central\n",
      "\tfound com.amazonaws#aws-java-sdk-iotjobsdataplane;1.11.655 in central\n",
      "\tfound com.amazonaws#aws-java-sdk-sagemakerruntime;1.11.655 in central\n",
      "\tfound com.amazonaws#aws-java-sdk-kinesisvideo;1.11.655 in central\n",
      "\tfound io.netty#netty-codec-http;4.1.17.Final in central\n",
      "\tfound io.netty#netty-codec;4.1.17.Final in central\n",
      "\tfound io.netty#netty-transport;4.1.17.Final in central\n",
      "\tfound io.netty#netty-buffer;4.1.17.Final in central\n",
      "\tfound io.netty#netty-common;4.1.17.Final in central\n",
      "\tfound io.netty#netty-resolver;4.1.17.Final in central\n",
      "\tfound io.netty#netty-handler;4.1.17.Final in central\n",
      "\tfound com.amazonaws#aws-java-sdk-appsync;1.11.655 in central\n",
      "\tfound com.amazonaws#aws-java-sdk-guardduty;1.11.655 in central\n",
      "\tfound com.amazonaws#aws-java-sdk-mq;1.11.655 in central\n",
      "\tfound com.amazonaws#aws-java-sdk-mediaconvert;1.11.655 in central\n",
      "\tfound com.amazonaws#aws-java-sdk-mediastore;1.11.655 in central\n",
      "\tfound com.amazonaws#aws-java-sdk-mediastoredata;1.11.655 in central\n",
      "\tfound com.amazonaws#aws-java-sdk-medialive;1.11.655 in central\n",
      "\tfound com.amazonaws#aws-java-sdk-mediapackage;1.11.655 in central\n",
      "\tfound com.amazonaws#aws-java-sdk-costexplorer;1.11.655 in central\n",
      "\tfound com.amazonaws#aws-java-sdk-pricing;1.11.655 in central\n",
      "\tfound com.amazonaws#aws-java-sdk-mobile;1.11.655 in central\n",
      "\tfound com.amazonaws#aws-java-sdk-cloudhsmv2;1.11.655 in central\n",
      "\tfound com.amazonaws#aws-java-sdk-glue;1.11.655 in central\n",
      "\tfound com.amazonaws#aws-java-sdk-migrationhub;1.11.655 in central\n",
      "\tfound com.amazonaws#aws-java-sdk-dax;1.11.655 in central\n",
      "\tfound com.amazonaws#aws-java-sdk-greengrass;1.11.655 in central\n",
      "\tfound com.amazonaws#aws-java-sdk-athena;1.11.655 in central\n",
      "\tfound com.amazonaws#aws-java-sdk-marketplaceentitlement;1.11.655 in central\n",
      "\tfound com.amazonaws#aws-java-sdk-codestar;1.11.655 in central\n",
      "\tfound com.amazonaws#aws-java-sdk-lexmodelbuilding;1.11.655 in central\n",
      "\tfound com.amazonaws#aws-java-sdk-resourcegroupstaggingapi;1.11.655 in central\n",
      "\tfound com.amazonaws#aws-java-sdk-pinpoint;1.11.655 in central\n",
      "\tfound com.amazonaws#aws-java-sdk-xray;1.11.655 in central\n",
      "\tfound com.amazonaws#aws-java-sdk-opsworkscm;1.11.655 in central\n",
      "\tfound com.amazonaws#aws-java-sdk-support;1.11.655 in central\n",
      "\tfound com.amazonaws#aws-java-sdk-simpledb;1.11.655 in central\n",
      "\tfound com.amazonaws#aws-java-sdk-servicecatalog;1.11.655 in central\n",
      "\tfound com.amazonaws#aws-java-sdk-servermigration;1.11.655 in central\n",
      "\tfound com.amazonaws#aws-java-sdk-simpleworkflow;1.11.655 in central\n",
      "\tfound com.amazonaws#aws-java-sdk-storagegateway;1.11.655 in central\n",
      "\tfound com.amazonaws#aws-java-sdk-route53;1.11.655 in central\n",
      "\tfound com.amazonaws#aws-java-sdk-importexport;1.11.655 in central\n",
      "\tfound com.amazonaws#aws-java-sdk-sts;1.11.655 in central\n",
      "\tfound com.amazonaws#aws-java-sdk-sqs;1.11.655 in central\n",
      "\tfound com.amazonaws#aws-java-sdk-rds;1.11.655 in central\n",
      "\tfound com.amazonaws#aws-java-sdk-redshift;1.11.655 in central\n",
      "\tfound com.amazonaws#aws-java-sdk-elasticbeanstalk;1.11.655 in central\n",
      "\tfound com.amazonaws#aws-java-sdk-glacier;1.11.655 in central\n",
      "\tfound com.amazonaws#aws-java-sdk-sns;1.11.655 in central\n",
      "\tfound com.amazonaws#aws-java-sdk-iam;1.11.655 in central\n",
      "\tfound com.amazonaws#aws-java-sdk-datapipeline;1.11.655 in central\n",
      "\tfound com.amazonaws#aws-java-sdk-elasticloadbalancing;1.11.655 in central\n",
      "\tfound com.amazonaws#aws-java-sdk-elasticloadbalancingv2;1.11.655 in central\n",
      "\tfound com.amazonaws#aws-java-sdk-emr;1.11.655 in central\n",
      "\tfound com.amazonaws#aws-java-sdk-elasticache;1.11.655 in central\n",
      "\tfound com.amazonaws#aws-java-sdk-elastictranscoder;1.11.655 in central\n",
      "\tfound com.amazonaws#aws-java-sdk-ec2;1.11.655 in central\n",
      "\tfound com.amazonaws#aws-java-sdk-dynamodb;1.11.655 in central\n",
      "\tfound com.amazonaws#aws-java-sdk-budgets;1.11.655 in central\n",
      "\tfound com.amazonaws#aws-java-sdk-cloudtrail;1.11.655 in central\n",
      "\tfound com.amazonaws#aws-java-sdk-cloudwatch;1.11.655 in central\n",
      "\tfound com.amazonaws#aws-java-sdk-logs;1.11.655 in central\n",
      "\tfound com.amazonaws#aws-java-sdk-events;1.11.655 in central\n",
      "\tfound com.amazonaws#aws-java-sdk-cognitoidentity;1.11.655 in central\n",
      "\tfound com.amazonaws#aws-java-sdk-cognitosync;1.11.655 in central\n",
      "\tfound com.amazonaws#aws-java-sdk-directconnect;1.11.655 in central\n",
      "\tfound com.amazonaws#aws-java-sdk-cloudformation;1.11.655 in central\n",
      "\tfound com.amazonaws#aws-java-sdk-cloudfront;1.11.655 in central\n",
      "\tfound com.amazonaws#aws-java-sdk-clouddirectory;1.11.655 in central\n",
      "\tfound com.amazonaws#aws-java-sdk-kinesis;1.11.655 in central\n",
      "\tfound com.amazonaws#aws-java-sdk-opsworks;1.11.655 in central\n",
      "\tfound com.amazonaws#aws-java-sdk-ses;1.11.655 in central\n",
      "\tfound com.amazonaws#aws-java-sdk-autoscaling;1.11.655 in central\n",
      "\tfound com.amazonaws#aws-java-sdk-cloudsearch;1.11.655 in central\n",
      "\tfound com.amazonaws#aws-java-sdk-cloudwatchmetrics;1.11.655 in central\n",
      "\tfound com.amazonaws#aws-java-sdk-codedeploy;1.11.655 in central\n",
      "\tfound com.amazonaws#aws-java-sdk-codepipeline;1.11.655 in central\n",
      "\tfound com.amazonaws#aws-java-sdk-config;1.11.655 in central\n",
      "\tfound com.amazonaws#aws-java-sdk-lambda;1.11.655 in central\n",
      "\tfound com.amazonaws#aws-java-sdk-ecs;1.11.655 in central\n",
      "\tfound com.amazonaws#aws-java-sdk-ecr;1.11.655 in central\n",
      "\tfound com.amazonaws#aws-java-sdk-cloudhsm;1.11.655 in central\n",
      "\tfound com.amazonaws#aws-java-sdk-ssm;1.11.655 in central\n",
      "\tfound com.amazonaws#aws-java-sdk-workspaces;1.11.655 in central\n",
      "\tfound com.amazonaws#aws-java-sdk-machinelearning;1.11.655 in central\n",
      "\tfound com.amazonaws#aws-java-sdk-directory;1.11.655 in central\n",
      "\tfound com.amazonaws#aws-java-sdk-efs;1.11.655 in central\n",
      "\tfound com.amazonaws#aws-java-sdk-codecommit;1.11.655 in central\n",
      "\tfound com.amazonaws#aws-java-sdk-devicefarm;1.11.655 in central\n",
      "\tfound com.amazonaws#aws-java-sdk-elasticsearch;1.11.655 in central\n",
      "\tfound com.amazonaws#aws-java-sdk-waf;1.11.655 in central\n",
      "\tfound com.amazonaws#aws-java-sdk-marketplacecommerceanalytics;1.11.655 in central\n",
      "\tfound com.amazonaws#aws-java-sdk-inspector;1.11.655 in central\n",
      "\tfound com.amazonaws#aws-java-sdk-iot;1.11.655 in central\n",
      "\tfound com.amazonaws#aws-java-sdk-api-gateway;1.11.655 in central\n",
      "\tfound com.amazonaws#aws-java-sdk-acm;1.11.655 in central\n",
      "\tfound com.amazonaws#aws-java-sdk-gamelift;1.11.655 in central\n",
      "\tfound com.amazonaws#aws-java-sdk-dms;1.11.655 in central\n",
      "\tfound com.amazonaws#aws-java-sdk-marketplacemeteringservice;1.11.655 in central\n",
      "\tfound com.amazonaws#aws-java-sdk-cognitoidp;1.11.655 in central\n",
      "\tfound com.amazonaws#aws-java-sdk-discovery;1.11.655 in central\n",
      "\tfound com.amazonaws#aws-java-sdk-applicationautoscaling;1.11.655 in central\n",
      "\tfound com.amazonaws#aws-java-sdk-snowball;1.11.655 in central\n",
      "\tfound com.amazonaws#aws-java-sdk-rekognition;1.11.655 in central\n",
      "\tfound com.amazonaws#aws-java-sdk-polly;1.11.655 in central\n",
      "\tfound com.amazonaws#aws-java-sdk-lightsail;1.11.655 in central\n",
      "\tfound com.amazonaws#aws-java-sdk-stepfunctions;1.11.655 in central\n",
      "\tfound com.amazonaws#aws-java-sdk-health;1.11.655 in central\n",
      "\tfound com.amazonaws#aws-java-sdk-costandusagereport;1.11.655 in central\n",
      "\tfound com.amazonaws#aws-java-sdk-codebuild;1.11.655 in central\n",
      "\tfound com.amazonaws#aws-java-sdk-appstream;1.11.655 in central\n",
      "\tfound com.amazonaws#aws-java-sdk-shield;1.11.655 in central\n",
      "\tfound com.amazonaws#aws-java-sdk-batch;1.11.655 in central\n",
      "\tfound com.amazonaws#aws-java-sdk-lex;1.11.655 in central\n",
      "\tfound com.amazonaws#aws-java-sdk-mechanicalturkrequester;1.11.655 in central\n",
      "\tfound com.amazonaws#aws-java-sdk-organizations;1.11.655 in central\n",
      "\tfound com.amazonaws#aws-java-sdk-workdocs;1.11.655 in central\n",
      "\tfound com.amazonaws#aws-java-sdk-models;1.11.655 in central\n",
      "\tfound com.amazonaws#aws-java-sdk-swf-libraries;1.11.22 in central\n",
      "\tfound io.delta#delta-spark_2.12;3.3.1 in central\n",
      "\tfound io.delta#delta-storage;3.3.1 in central\n",
      "\tfound org.antlr#antlr4-runtime;4.9.3 in central\n",
      "\tfound org.postgresql#postgresql;42.7.2 in central\n",
      "\tfound org.checkerframework#checker-qual;3.42.0 in central\n",
      ":: resolution report :: resolve 10080ms :: artifacts dl 249ms\n",
      "\t:: modules in use:\n",
      "\tch.qos.reload4j#reload4j;1.2.22 from central in [default]\n",
      "\tcom.amazonaws#aws-java-sdk;1.11.655 from central in [default]\n",
      "\tcom.amazonaws#aws-java-sdk-acm;1.11.655 from central in [default]\n",
      "\tcom.amazonaws#aws-java-sdk-acmpca;1.11.655 from central in [default]\n",
      "\tcom.amazonaws#aws-java-sdk-alexaforbusiness;1.11.655 from central in [default]\n",
      "\tcom.amazonaws#aws-java-sdk-amplify;1.11.655 from central in [default]\n",
      "\tcom.amazonaws#aws-java-sdk-api-gateway;1.11.655 from central in [default]\n",
      "\tcom.amazonaws#aws-java-sdk-apigatewaymanagementapi;1.11.655 from central in [default]\n",
      "\tcom.amazonaws#aws-java-sdk-apigatewayv2;1.11.655 from central in [default]\n",
      "\tcom.amazonaws#aws-java-sdk-applicationautoscaling;1.11.655 from central in [default]\n",
      "\tcom.amazonaws#aws-java-sdk-applicationinsights;1.11.655 from central in [default]\n",
      "\tcom.amazonaws#aws-java-sdk-appmesh;1.11.655 from central in [default]\n",
      "\tcom.amazonaws#aws-java-sdk-appstream;1.11.655 from central in [default]\n",
      "\tcom.amazonaws#aws-java-sdk-appsync;1.11.655 from central in [default]\n",
      "\tcom.amazonaws#aws-java-sdk-athena;1.11.655 from central in [default]\n",
      "\tcom.amazonaws#aws-java-sdk-autoscaling;1.11.655 from central in [default]\n",
      "\tcom.amazonaws#aws-java-sdk-autoscalingplans;1.11.655 from central in [default]\n",
      "\tcom.amazonaws#aws-java-sdk-backup;1.11.655 from central in [default]\n",
      "\tcom.amazonaws#aws-java-sdk-batch;1.11.655 from central in [default]\n",
      "\tcom.amazonaws#aws-java-sdk-budgets;1.11.655 from central in [default]\n",
      "\tcom.amazonaws#aws-java-sdk-bundle;1.12.262 from central in [default]\n",
      "\tcom.amazonaws#aws-java-sdk-chime;1.11.655 from central in [default]\n",
      "\tcom.amazonaws#aws-java-sdk-cloud9;1.11.655 from central in [default]\n",
      "\tcom.amazonaws#aws-java-sdk-clouddirectory;1.11.655 from central in [default]\n",
      "\tcom.amazonaws#aws-java-sdk-cloudformation;1.11.655 from central in [default]\n",
      "\tcom.amazonaws#aws-java-sdk-cloudfront;1.11.655 from central in [default]\n",
      "\tcom.amazonaws#aws-java-sdk-cloudhsm;1.11.655 from central in [default]\n",
      "\tcom.amazonaws#aws-java-sdk-cloudhsmv2;1.11.655 from central in [default]\n",
      "\tcom.amazonaws#aws-java-sdk-cloudsearch;1.11.655 from central in [default]\n",
      "\tcom.amazonaws#aws-java-sdk-cloudtrail;1.11.655 from central in [default]\n",
      "\tcom.amazonaws#aws-java-sdk-cloudwatch;1.11.655 from central in [default]\n",
      "\tcom.amazonaws#aws-java-sdk-cloudwatchmetrics;1.11.655 from central in [default]\n",
      "\tcom.amazonaws#aws-java-sdk-codebuild;1.11.655 from central in [default]\n",
      "\tcom.amazonaws#aws-java-sdk-codecommit;1.11.655 from central in [default]\n",
      "\tcom.amazonaws#aws-java-sdk-codedeploy;1.11.655 from central in [default]\n",
      "\tcom.amazonaws#aws-java-sdk-codepipeline;1.11.655 from central in [default]\n",
      "\tcom.amazonaws#aws-java-sdk-codestar;1.11.655 from central in [default]\n",
      "\tcom.amazonaws#aws-java-sdk-cognitoidentity;1.11.655 from central in [default]\n",
      "\tcom.amazonaws#aws-java-sdk-cognitoidp;1.11.655 from central in [default]\n",
      "\tcom.amazonaws#aws-java-sdk-cognitosync;1.11.655 from central in [default]\n",
      "\tcom.amazonaws#aws-java-sdk-comprehend;1.11.655 from central in [default]\n",
      "\tcom.amazonaws#aws-java-sdk-comprehendmedical;1.11.655 from central in [default]\n",
      "\tcom.amazonaws#aws-java-sdk-config;1.11.655 from central in [default]\n",
      "\tcom.amazonaws#aws-java-sdk-connect;1.11.655 from central in [default]\n",
      "\tcom.amazonaws#aws-java-sdk-core;1.11.655 from central in [default]\n",
      "\tcom.amazonaws#aws-java-sdk-costandusagereport;1.11.655 from central in [default]\n",
      "\tcom.amazonaws#aws-java-sdk-costexplorer;1.11.655 from central in [default]\n",
      "\tcom.amazonaws#aws-java-sdk-datapipeline;1.11.655 from central in [default]\n",
      "\tcom.amazonaws#aws-java-sdk-datasync;1.11.655 from central in [default]\n",
      "\tcom.amazonaws#aws-java-sdk-dax;1.11.655 from central in [default]\n",
      "\tcom.amazonaws#aws-java-sdk-devicefarm;1.11.655 from central in [default]\n",
      "\tcom.amazonaws#aws-java-sdk-directconnect;1.11.655 from central in [default]\n",
      "\tcom.amazonaws#aws-java-sdk-directory;1.11.655 from central in [default]\n",
      "\tcom.amazonaws#aws-java-sdk-discovery;1.11.655 from central in [default]\n",
      "\tcom.amazonaws#aws-java-sdk-dlm;1.11.655 from central in [default]\n",
      "\tcom.amazonaws#aws-java-sdk-dms;1.11.655 from central in [default]\n",
      "\tcom.amazonaws#aws-java-sdk-docdb;1.11.655 from central in [default]\n",
      "\tcom.amazonaws#aws-java-sdk-dynamodb;1.11.655 from central in [default]\n",
      "\tcom.amazonaws#aws-java-sdk-ec2;1.11.655 from central in [default]\n",
      "\tcom.amazonaws#aws-java-sdk-ec2instanceconnect;1.11.655 from central in [default]\n",
      "\tcom.amazonaws#aws-java-sdk-ecr;1.11.655 from central in [default]\n",
      "\tcom.amazonaws#aws-java-sdk-ecs;1.11.655 from central in [default]\n",
      "\tcom.amazonaws#aws-java-sdk-efs;1.11.655 from central in [default]\n",
      "\tcom.amazonaws#aws-java-sdk-eks;1.11.655 from central in [default]\n",
      "\tcom.amazonaws#aws-java-sdk-elasticache;1.11.655 from central in [default]\n",
      "\tcom.amazonaws#aws-java-sdk-elasticbeanstalk;1.11.655 from central in [default]\n",
      "\tcom.amazonaws#aws-java-sdk-elasticloadbalancing;1.11.655 from central in [default]\n",
      "\tcom.amazonaws#aws-java-sdk-elasticloadbalancingv2;1.11.655 from central in [default]\n",
      "\tcom.amazonaws#aws-java-sdk-elasticsearch;1.11.655 from central in [default]\n",
      "\tcom.amazonaws#aws-java-sdk-elastictranscoder;1.11.655 from central in [default]\n",
      "\tcom.amazonaws#aws-java-sdk-emr;1.11.655 from central in [default]\n",
      "\tcom.amazonaws#aws-java-sdk-eventbridge;1.11.655 from central in [default]\n",
      "\tcom.amazonaws#aws-java-sdk-events;1.11.655 from central in [default]\n",
      "\tcom.amazonaws#aws-java-sdk-fms;1.11.655 from central in [default]\n",
      "\tcom.amazonaws#aws-java-sdk-forecast;1.11.655 from central in [default]\n",
      "\tcom.amazonaws#aws-java-sdk-forecastquery;1.11.655 from central in [default]\n",
      "\tcom.amazonaws#aws-java-sdk-fsx;1.11.655 from central in [default]\n",
      "\tcom.amazonaws#aws-java-sdk-gamelift;1.11.655 from central in [default]\n",
      "\tcom.amazonaws#aws-java-sdk-glacier;1.11.655 from central in [default]\n",
      "\tcom.amazonaws#aws-java-sdk-globalaccelerator;1.11.655 from central in [default]\n",
      "\tcom.amazonaws#aws-java-sdk-glue;1.11.655 from central in [default]\n",
      "\tcom.amazonaws#aws-java-sdk-greengrass;1.11.655 from central in [default]\n",
      "\tcom.amazonaws#aws-java-sdk-groundstation;1.11.655 from central in [default]\n",
      "\tcom.amazonaws#aws-java-sdk-guardduty;1.11.655 from central in [default]\n",
      "\tcom.amazonaws#aws-java-sdk-health;1.11.655 from central in [default]\n",
      "\tcom.amazonaws#aws-java-sdk-iam;1.11.655 from central in [default]\n",
      "\tcom.amazonaws#aws-java-sdk-importexport;1.11.655 from central in [default]\n",
      "\tcom.amazonaws#aws-java-sdk-inspector;1.11.655 from central in [default]\n",
      "\tcom.amazonaws#aws-java-sdk-iot;1.11.655 from central in [default]\n",
      "\tcom.amazonaws#aws-java-sdk-iot1clickdevices;1.11.655 from central in [default]\n",
      "\tcom.amazonaws#aws-java-sdk-iot1clickprojects;1.11.655 from central in [default]\n",
      "\tcom.amazonaws#aws-java-sdk-iotanalytics;1.11.655 from central in [default]\n",
      "\tcom.amazonaws#aws-java-sdk-iotevents;1.11.655 from central in [default]\n",
      "\tcom.amazonaws#aws-java-sdk-ioteventsdata;1.11.655 from central in [default]\n",
      "\tcom.amazonaws#aws-java-sdk-iotjobsdataplane;1.11.655 from central in [default]\n",
      "\tcom.amazonaws#aws-java-sdk-iotthingsgraph;1.11.655 from central in [default]\n",
      "\tcom.amazonaws#aws-java-sdk-kafka;1.11.655 from central in [default]\n",
      "\tcom.amazonaws#aws-java-sdk-kinesis;1.11.655 from central in [default]\n",
      "\tcom.amazonaws#aws-java-sdk-kinesisanalyticsv2;1.11.655 from central in [default]\n",
      "\tcom.amazonaws#aws-java-sdk-kinesisvideo;1.11.655 from central in [default]\n",
      "\tcom.amazonaws#aws-java-sdk-kms;1.11.655 from central in [default]\n",
      "\tcom.amazonaws#aws-java-sdk-lakeformation;1.11.655 from central in [default]\n",
      "\tcom.amazonaws#aws-java-sdk-lambda;1.11.655 from central in [default]\n",
      "\tcom.amazonaws#aws-java-sdk-lex;1.11.655 from central in [default]\n",
      "\tcom.amazonaws#aws-java-sdk-lexmodelbuilding;1.11.655 from central in [default]\n",
      "\tcom.amazonaws#aws-java-sdk-licensemanager;1.11.655 from central in [default]\n",
      "\tcom.amazonaws#aws-java-sdk-lightsail;1.11.655 from central in [default]\n",
      "\tcom.amazonaws#aws-java-sdk-logs;1.11.655 from central in [default]\n",
      "\tcom.amazonaws#aws-java-sdk-machinelearning;1.11.655 from central in [default]\n",
      "\tcom.amazonaws#aws-java-sdk-macie;1.11.655 from central in [default]\n",
      "\tcom.amazonaws#aws-java-sdk-managedblockchain;1.11.655 from central in [default]\n",
      "\tcom.amazonaws#aws-java-sdk-marketplacecommerceanalytics;1.11.655 from central in [default]\n",
      "\tcom.amazonaws#aws-java-sdk-marketplaceentitlement;1.11.655 from central in [default]\n",
      "\tcom.amazonaws#aws-java-sdk-marketplacemeteringservice;1.11.655 from central in [default]\n",
      "\tcom.amazonaws#aws-java-sdk-mechanicalturkrequester;1.11.655 from central in [default]\n",
      "\tcom.amazonaws#aws-java-sdk-mediaconnect;1.11.655 from central in [default]\n",
      "\tcom.amazonaws#aws-java-sdk-mediaconvert;1.11.655 from central in [default]\n",
      "\tcom.amazonaws#aws-java-sdk-medialive;1.11.655 from central in [default]\n",
      "\tcom.amazonaws#aws-java-sdk-mediapackage;1.11.655 from central in [default]\n",
      "\tcom.amazonaws#aws-java-sdk-mediapackagevod;1.11.655 from central in [default]\n",
      "\tcom.amazonaws#aws-java-sdk-mediastore;1.11.655 from central in [default]\n",
      "\tcom.amazonaws#aws-java-sdk-mediastoredata;1.11.655 from central in [default]\n",
      "\tcom.amazonaws#aws-java-sdk-mediatailor;1.11.655 from central in [default]\n",
      "\tcom.amazonaws#aws-java-sdk-migrationhub;1.11.655 from central in [default]\n",
      "\tcom.amazonaws#aws-java-sdk-mobile;1.11.655 from central in [default]\n",
      "\tcom.amazonaws#aws-java-sdk-models;1.11.655 from central in [default]\n",
      "\tcom.amazonaws#aws-java-sdk-mq;1.11.655 from central in [default]\n",
      "\tcom.amazonaws#aws-java-sdk-neptune;1.11.655 from central in [default]\n",
      "\tcom.amazonaws#aws-java-sdk-opsworks;1.11.655 from central in [default]\n",
      "\tcom.amazonaws#aws-java-sdk-opsworkscm;1.11.655 from central in [default]\n",
      "\tcom.amazonaws#aws-java-sdk-organizations;1.11.655 from central in [default]\n",
      "\tcom.amazonaws#aws-java-sdk-personalize;1.11.655 from central in [default]\n",
      "\tcom.amazonaws#aws-java-sdk-personalizeevents;1.11.655 from central in [default]\n",
      "\tcom.amazonaws#aws-java-sdk-personalizeruntime;1.11.655 from central in [default]\n",
      "\tcom.amazonaws#aws-java-sdk-pi;1.11.655 from central in [default]\n",
      "\tcom.amazonaws#aws-java-sdk-pinpoint;1.11.655 from central in [default]\n",
      "\tcom.amazonaws#aws-java-sdk-pinpointemail;1.11.655 from central in [default]\n",
      "\tcom.amazonaws#aws-java-sdk-pinpointsmsvoice;1.11.655 from central in [default]\n",
      "\tcom.amazonaws#aws-java-sdk-polly;1.11.655 from central in [default]\n",
      "\tcom.amazonaws#aws-java-sdk-pricing;1.11.655 from central in [default]\n",
      "\tcom.amazonaws#aws-java-sdk-qldb;1.11.655 from central in [default]\n",
      "\tcom.amazonaws#aws-java-sdk-qldbsession;1.11.655 from central in [default]\n",
      "\tcom.amazonaws#aws-java-sdk-quicksight;1.11.655 from central in [default]\n",
      "\tcom.amazonaws#aws-java-sdk-ram;1.11.655 from central in [default]\n",
      "\tcom.amazonaws#aws-java-sdk-rds;1.11.655 from central in [default]\n",
      "\tcom.amazonaws#aws-java-sdk-rdsdata;1.11.655 from central in [default]\n",
      "\tcom.amazonaws#aws-java-sdk-redshift;1.11.655 from central in [default]\n",
      "\tcom.amazonaws#aws-java-sdk-rekognition;1.11.655 from central in [default]\n",
      "\tcom.amazonaws#aws-java-sdk-resourcegroups;1.11.655 from central in [default]\n",
      "\tcom.amazonaws#aws-java-sdk-resourcegroupstaggingapi;1.11.655 from central in [default]\n",
      "\tcom.amazonaws#aws-java-sdk-robomaker;1.11.655 from central in [default]\n",
      "\tcom.amazonaws#aws-java-sdk-route53;1.11.655 from central in [default]\n",
      "\tcom.amazonaws#aws-java-sdk-route53resolver;1.11.655 from central in [default]\n",
      "\tcom.amazonaws#aws-java-sdk-s3;1.11.655 from central in [default]\n",
      "\tcom.amazonaws#aws-java-sdk-s3control;1.11.655 from central in [default]\n",
      "\tcom.amazonaws#aws-java-sdk-sagemaker;1.11.655 from central in [default]\n",
      "\tcom.amazonaws#aws-java-sdk-sagemakerruntime;1.11.655 from central in [default]\n",
      "\tcom.amazonaws#aws-java-sdk-secretsmanager;1.11.655 from central in [default]\n",
      "\tcom.amazonaws#aws-java-sdk-securityhub;1.11.655 from central in [default]\n",
      "\tcom.amazonaws#aws-java-sdk-serverlessapplicationrepository;1.11.655 from central in [default]\n",
      "\tcom.amazonaws#aws-java-sdk-servermigration;1.11.655 from central in [default]\n",
      "\tcom.amazonaws#aws-java-sdk-servicecatalog;1.11.655 from central in [default]\n",
      "\tcom.amazonaws#aws-java-sdk-servicediscovery;1.11.655 from central in [default]\n",
      "\tcom.amazonaws#aws-java-sdk-servicequotas;1.11.655 from central in [default]\n",
      "\tcom.amazonaws#aws-java-sdk-ses;1.11.655 from central in [default]\n",
      "\tcom.amazonaws#aws-java-sdk-shield;1.11.655 from central in [default]\n",
      "\tcom.amazonaws#aws-java-sdk-signer;1.11.655 from central in [default]\n",
      "\tcom.amazonaws#aws-java-sdk-simpledb;1.11.655 from central in [default]\n",
      "\tcom.amazonaws#aws-java-sdk-simpleworkflow;1.11.655 from central in [default]\n",
      "\tcom.amazonaws#aws-java-sdk-snowball;1.11.655 from central in [default]\n",
      "\tcom.amazonaws#aws-java-sdk-sns;1.11.655 from central in [default]\n",
      "\tcom.amazonaws#aws-java-sdk-sqs;1.11.655 from central in [default]\n",
      "\tcom.amazonaws#aws-java-sdk-ssm;1.11.655 from central in [default]\n",
      "\tcom.amazonaws#aws-java-sdk-stepfunctions;1.11.655 from central in [default]\n",
      "\tcom.amazonaws#aws-java-sdk-storagegateway;1.11.655 from central in [default]\n",
      "\tcom.amazonaws#aws-java-sdk-sts;1.11.655 from central in [default]\n",
      "\tcom.amazonaws#aws-java-sdk-support;1.11.655 from central in [default]\n",
      "\tcom.amazonaws#aws-java-sdk-swf-libraries;1.11.22 from central in [default]\n",
      "\tcom.amazonaws#aws-java-sdk-textract;1.11.655 from central in [default]\n",
      "\tcom.amazonaws#aws-java-sdk-transcribe;1.11.655 from central in [default]\n",
      "\tcom.amazonaws#aws-java-sdk-transfer;1.11.655 from central in [default]\n",
      "\tcom.amazonaws#aws-java-sdk-translate;1.11.655 from central in [default]\n",
      "\tcom.amazonaws#aws-java-sdk-waf;1.11.655 from central in [default]\n",
      "\tcom.amazonaws#aws-java-sdk-workdocs;1.11.655 from central in [default]\n",
      "\tcom.amazonaws#aws-java-sdk-worklink;1.11.655 from central in [default]\n",
      "\tcom.amazonaws#aws-java-sdk-workmail;1.11.655 from central in [default]\n",
      "\tcom.amazonaws#aws-java-sdk-workmailmessageflow;1.11.655 from central in [default]\n",
      "\tcom.amazonaws#aws-java-sdk-workspaces;1.11.655 from central in [default]\n",
      "\tcom.amazonaws#aws-java-sdk-xray;1.11.655 from central in [default]\n",
      "\tcom.amazonaws#jmespath-java;1.11.655 from central in [default]\n",
      "\tcom.fasterxml.jackson.core#jackson-annotations;2.12.7 from central in [default]\n",
      "\tcom.fasterxml.jackson.core#jackson-core;2.12.7 from central in [default]\n",
      "\tcom.fasterxml.jackson.core#jackson-databind;2.12.7 from central in [default]\n",
      "\tcom.fasterxml.jackson.dataformat#jackson-dataformat-cbor;2.6.7 from central in [default]\n",
      "\tcom.fasterxml.woodstox#woodstox-core;5.3.0 from central in [default]\n",
      "\tcom.github.stephenc.jcip#jcip-annotations;1.0-1 from central in [default]\n",
      "\tcom.google.code.findbugs#jsr305;3.0.2 from central in [default]\n",
      "\tcom.google.code.gson#gson;2.8.9 from central in [default]\n",
      "\tcom.google.guava#failureaccess;1.0 from central in [default]\n",
      "\tcom.google.guava#guava;27.0-jre from central in [default]\n",
      "\tcom.google.guava#listenablefuture;9999.0-empty-to-avoid-conflict-with-guava from central in [default]\n",
      "\tcom.google.j2objc#j2objc-annotations;1.1 from central in [default]\n",
      "\tcom.google.protobuf#protobuf-java;2.5.0 from central in [default]\n",
      "\tcom.google.re2j#re2j;1.1 from central in [default]\n",
      "\tcom.jcraft#jsch;0.1.55 from central in [default]\n",
      "\tcom.nimbusds#nimbus-jose-jwt;9.8.1 from central in [default]\n",
      "\tcom.sun.jersey#jersey-core;1.19 from central in [default]\n",
      "\tcom.sun.jersey#jersey-json;1.19 from central in [default]\n",
      "\tcom.sun.jersey#jersey-server;1.19 from central in [default]\n",
      "\tcom.sun.jersey#jersey-servlet;1.19 from central in [default]\n",
      "\tcom.sun.xml.bind#jaxb-impl;2.2.3-1 from central in [default]\n",
      "\tcom.thoughtworks.paranamer#paranamer;2.3 from central in [default]\n",
      "\tcommons-beanutils#commons-beanutils;1.9.4 from central in [default]\n",
      "\tcommons-cli#commons-cli;1.2 from central in [default]\n",
      "\tcommons-codec#commons-codec;1.15 from central in [default]\n",
      "\tcommons-collections#commons-collections;3.2.2 from central in [default]\n",
      "\tcommons-io#commons-io;2.8.0 from central in [default]\n",
      "\tcommons-logging#commons-logging;1.1.3 from central in [default]\n",
      "\tcommons-net#commons-net;3.6 from central in [default]\n",
      "\tdnsjava#dnsjava;2.1.7 from central in [default]\n",
      "\tio.delta#delta-spark_2.12;3.3.1 from central in [default]\n",
      "\tio.delta#delta-storage;3.3.1 from central in [default]\n",
      "\tio.netty#netty-buffer;4.1.17.Final from central in [default]\n",
      "\tio.netty#netty-codec;4.1.17.Final from central in [default]\n",
      "\tio.netty#netty-codec-http;4.1.17.Final from central in [default]\n",
      "\tio.netty#netty-common;4.1.17.Final from central in [default]\n",
      "\tio.netty#netty-handler;4.1.17.Final from central in [default]\n",
      "\tio.netty#netty-resolver;4.1.17.Final from central in [default]\n",
      "\tio.netty#netty-transport;4.1.17.Final from central in [default]\n",
      "\tjakarta.activation#jakarta.activation-api;1.2.1 from central in [default]\n",
      "\tjavax.servlet#javax.servlet-api;3.1.0 from central in [default]\n",
      "\tjavax.servlet.jsp#jsp-api;2.1 from central in [default]\n",
      "\tjavax.ws.rs#jsr311-api;1.1.1 from central in [default]\n",
      "\tjavax.xml.bind#jaxb-api;2.2.11 from central in [default]\n",
      "\tjoda-time#joda-time;2.8.1 from central in [default]\n",
      "\tnet.minidev#accessors-smart;2.4.7 from central in [default]\n",
      "\tnet.minidev#json-smart;2.4.7 from central in [default]\n",
      "\torg.antlr#antlr4-runtime;4.9.3 from central in [default]\n",
      "\torg.apache.avro#avro;1.7.7 from central in [default]\n",
      "\torg.apache.commons#commons-compress;1.21 from central in [default]\n",
      "\torg.apache.commons#commons-configuration2;2.1.1 from central in [default]\n",
      "\torg.apache.commons#commons-lang3;3.12.0 from central in [default]\n",
      "\torg.apache.commons#commons-math3;3.1.1 from central in [default]\n",
      "\torg.apache.commons#commons-text;1.4 from central in [default]\n",
      "\torg.apache.curator#curator-client;4.2.0 from central in [default]\n",
      "\torg.apache.curator#curator-framework;4.2.0 from central in [default]\n",
      "\torg.apache.curator#curator-recipes;4.2.0 from central in [default]\n",
      "\torg.apache.hadoop#hadoop-annotations;3.3.4 from central in [default]\n",
      "\torg.apache.hadoop#hadoop-auth;3.3.4 from central in [default]\n",
      "\torg.apache.hadoop#hadoop-aws;3.3.4 from central in [default]\n",
      "\torg.apache.hadoop#hadoop-common;3.3.4 from central in [default]\n",
      "\torg.apache.hadoop.thirdparty#hadoop-shaded-guava;1.1.1 from central in [default]\n",
      "\torg.apache.hadoop.thirdparty#hadoop-shaded-protobuf_3_7;1.1.1 from central in [default]\n",
      "\torg.apache.httpcomponents#httpclient;4.5.13 from central in [default]\n",
      "\torg.apache.httpcomponents#httpcore;4.4.13 from central in [default]\n",
      "\torg.apache.kerby#kerb-admin;1.0.1 from central in [default]\n",
      "\torg.apache.kerby#kerb-client;1.0.1 from central in [default]\n",
      "\torg.apache.kerby#kerb-common;1.0.1 from central in [default]\n",
      "\torg.apache.kerby#kerb-core;1.0.1 from central in [default]\n",
      "\torg.apache.kerby#kerb-crypto;1.0.1 from central in [default]\n",
      "\torg.apache.kerby#kerb-identity;1.0.1 from central in [default]\n",
      "\torg.apache.kerby#kerb-server;1.0.1 from central in [default]\n",
      "\torg.apache.kerby#kerb-simplekdc;1.0.1 from central in [default]\n",
      "\torg.apache.kerby#kerb-util;1.0.1 from central in [default]\n",
      "\torg.apache.kerby#kerby-asn1;1.0.1 from central in [default]\n",
      "\torg.apache.kerby#kerby-config;1.0.1 from central in [default]\n",
      "\torg.apache.kerby#kerby-pkix;1.0.1 from central in [default]\n",
      "\torg.apache.kerby#kerby-util;1.0.1 from central in [default]\n",
      "\torg.apache.kerby#kerby-xdr;1.0.1 from central in [default]\n",
      "\torg.apache.kerby#token-provider;1.0.1 from central in [default]\n",
      "\torg.apache.yetus#audience-annotations;0.5.0 from central in [default]\n",
      "\torg.apache.zookeeper#zookeeper;3.5.6 from central in [default]\n",
      "\torg.apache.zookeeper#zookeeper-jute;3.5.6 from central in [default]\n",
      "\torg.checkerframework#checker-qual;3.42.0 from central in [default]\n",
      "\torg.codehaus.jackson#jackson-core-asl;1.9.13 from central in [default]\n",
      "\torg.codehaus.jackson#jackson-jaxrs;1.9.13 from central in [default]\n",
      "\torg.codehaus.jackson#jackson-mapper-asl;1.9.13 from central in [default]\n",
      "\torg.codehaus.jackson#jackson-xc;1.9.13 from central in [default]\n",
      "\torg.codehaus.jettison#jettison;1.1 from central in [default]\n",
      "\torg.codehaus.mojo#animal-sniffer-annotations;1.17 from central in [default]\n",
      "\torg.codehaus.woodstox#stax2-api;4.2.1 from central in [default]\n",
      "\torg.eclipse.jetty#jetty-http;9.4.43.v20210629 from central in [default]\n",
      "\torg.eclipse.jetty#jetty-io;9.4.43.v20210629 from central in [default]\n",
      "\torg.eclipse.jetty#jetty-security;9.4.43.v20210629 from central in [default]\n",
      "\torg.eclipse.jetty#jetty-server;9.4.43.v20210629 from central in [default]\n",
      "\torg.eclipse.jetty#jetty-servlet;9.4.43.v20210629 from central in [default]\n",
      "\torg.eclipse.jetty#jetty-util;9.4.43.v20210629 from central in [default]\n",
      "\torg.eclipse.jetty#jetty-util-ajax;9.4.43.v20210629 from central in [default]\n",
      "\torg.eclipse.jetty#jetty-webapp;9.4.43.v20210629 from central in [default]\n",
      "\torg.eclipse.jetty#jetty-xml;9.4.43.v20210629 from central in [default]\n",
      "\torg.ow2.asm#asm;5.0.4 from central in [default]\n",
      "\torg.postgresql#postgresql;42.7.2 from central in [default]\n",
      "\torg.slf4j#slf4j-api;1.7.36 from central in [default]\n",
      "\torg.slf4j#slf4j-reload4j;1.7.36 from central in [default]\n",
      "\torg.wildfly.openssl#wildfly-openssl;1.0.7.Final from central in [default]\n",
      "\torg.xerial.snappy#snappy-java;1.1.8.2 from central in [default]\n",
      "\tsoftware.amazon.ion#ion-java;1.0.2 from central in [default]\n",
      "\t:: evicted modules:\n",
      "\torg.checkerframework#checker-qual;2.5.2 by [org.checkerframework#checker-qual;3.42.0] in [default]\n",
      "\torg.apache.httpcomponents#httpclient;4.5.9 by [org.apache.httpcomponents#httpclient;4.5.13] in [default]\n",
      "\tcom.fasterxml.jackson.core#jackson-databind;2.6.7.2 by [com.fasterxml.jackson.core#jackson-databind;2.12.7] in [default]\n",
      "\tcom.fasterxml.jackson.core#jackson-core;2.6.7 by [com.fasterxml.jackson.core#jackson-core;2.12.7] in [default]\n",
      "\tcom.amazonaws#aws-java-sdk-simpleworkflow;1.11.22 by [com.amazonaws#aws-java-sdk-simpleworkflow;1.11.655] in [default]\n",
      "\t---------------------------------------------------------------------\n",
      "\t|                  |            modules            ||   artifacts   |\n",
      "\t|       conf       | number| search|dwnlded|evicted|| number|dwnlded|\n",
      "\t---------------------------------------------------------------------\n",
      "\t|      default     |  302  |   0   |   0   |   5   ||  297  |   0   |\n",
      "\t---------------------------------------------------------------------\n",
      ":: retrieving :: org.apache.spark#spark-submit-parent-f43b470f-32e1-44ad-92af-3d3f0af63b95\n",
      "\tconfs: [default]\n",
      "\t0 artifacts copied, 297 already retrieved (0kB/103ms)\n",
      "25/07/01 02:55:29 WARN NativeCodeLoader: Unable to load native-hadoop library for your platform... using builtin-java classes where applicable\n",
      "Setting default log level to \"WARN\".\n",
      "To adjust logging level use sc.setLogLevel(newLevel). For SparkR, use setLogLevel(newLevel).\n"
     ]
    },
    {
     "name": "stdout",
     "output_type": "stream",
     "text": [
      "2025-07-01 02:55:48,787 - DEBUG - ResourceManager:021 - ('config keys=', dict_keys(['postgresql-life', 'csv1', 'json1', 'delta1', 'mart']))\n"
     ]
    }
   ],
   "source": [
    "from spark_batch.lib.spark_session import get_spark_session\n",
    "from spark_batch.lib.elt_manager import EltManager\n",
    "from spark_batch.lib.pxlogger import CustomLogger\n",
    "from spark_batch.lib.util import toTargetCondition\n",
    "import logging\n",
    "import os \n",
    "\n",
    "CustomLogger.set_custom_log_level(logging.DEBUG)  #default log_level is 'INFO'\n",
    "spark = get_spark_session(app_name=\"f_load_subway_passengers_time\",notebook_name=\"test\", notebook_namespace=\"demo01-kf\", \\\n",
    "            executor_instances=\"1\", executor_memory=\"1G\", executor_cores=\"1\", driver_memory=\"1G\", driver_cores=\"1\" )\n",
    "em = EltManager(spark, config_file=\"config.yaml\", domain=\"life\", record_type=\"mart\", record_prefix=\"hopt\")"
   ]
  },
  {
   "cell_type": "markdown",
   "id": "135123f9-0fb9-4a29-88ba-e2e495b2bb4d",
   "metadata": {},
   "source": [
    "### JSON > Bronze"
   ]
  },
  {
   "cell_type": "code",
   "execution_count": 2,
   "id": "9e875456-7485-407e-832b-e7fa37437f87",
   "metadata": {},
   "outputs": [
    {
     "name": "stdout",
     "output_type": "stream",
     "text": [
      "2025-07-01 02:55:48,794 - DEBUG - ResourceManager:047 - s3_ssl_verify is False\n",
      "2025-07-01 02:55:49,790 - DEBUG - ResourceManager:052 - ('source_type_name = delata  :', 'paasup', 'bronze/life')\n"
     ]
    }
   ],
   "source": [
    "source_type = \"json1\";  source_topic = \"paasup\"; source_dpath=\"datasource/life\"\n",
    "target_type = \"delta1\";   target_topic = \"paasup\"; target_dpath=\"bronze/life\"\n",
    "\n",
    "em.init_rsm(source_type, source_topic, source_dpath, target_type, target_topic, target_dpath, 500000)"
   ]
  },
  {
   "cell_type": "code",
   "execution_count": 8,
   "id": "cda60dad-717b-44e0-94a9-4862a10578be",
   "metadata": {},
   "outputs": [
    {
     "name": "stdout",
     "output_type": "stream",
     "text": [
      "True\n"
     ]
    }
   ],
   "source": [
    "def s3_file_exists(spark_context, s3_path):\n",
    "    \"\"\"\n",
    "    주어진 S3 경로에 파일이 존재하는지 확인합니다.\n",
    "\n",
    "    Args:\n",
    "        spark_context: 활성 SparkContext.\n",
    "        s3_path (str): 확인할 S3 파일 경로 (예: \"s3a://버킷/경로/파일.json\").\n",
    "\n",
    "    Returns:\n",
    "        bool: 파일이 존재하면 True, 그렇지 않으면 False.\n",
    "    \"\"\"\n",
    "    try:\n",
    "        # Hadoop Path 객체 생성\n",
    "        hadoop_path = spark_context._jvm.org.apache.hadoop.fs.Path(s3_path)\n",
    "        # 파일 시스템 객체 가져오기\n",
    "        fs = hadoop_path.getFileSystem(spark_context._jsc.hadoopConfiguration())\n",
    "        # 파일 존재 여부 확인\n",
    "        return fs.exists(hadoop_path)\n",
    "    except Exception as e:\n",
    "        print(f\"S3 파일 '{s3_path}' 존재 여부 확인 중 오류: {e}\")\n",
    "        return False\n",
    "        \n",
    "#print(s3_file_exists(spark.sparkContext, \"s3a://paasup/datasource/life/서울시 지하철 호선별 역별 시간대별 승하차 인원 정보.json\"))\n",
    "print(s3_file_exists(spark.sparkContext, \"s3a://paasup/datasource/life/subway_time.json\"))\n"
   ]
  },
  {
   "cell_type": "code",
   "execution_count": 3,
   "id": "0c3d1db0-fb8b-49b0-9ce7-e8a8b5d40c2a",
   "metadata": {},
   "outputs": [
    {
     "name": "stderr",
     "output_type": "stream",
     "text": [
      "25/07/01 02:56:00 WARN MetricsConfig: Cannot locate configuration: tried hadoop-metrics2-s3a-file-system.properties,hadoop-metrics2.properties\n",
      "25/07/01 02:56:01 WARN AmazonHttpClient: SSL Certificate checking for endpoints has been explicitly disabled.\n",
      "[Stage 0:=============================>                             (1 + 1) / 2]\r"
     ]
    },
    {
     "name": "stdout",
     "output_type": "stream",
     "text": [
      "root\n",
      " |-- _corrupt_record: string (nullable = true)\n",
      " |-- hr_0_get_off_nope: long (nullable = true)\n",
      " |-- hr_0_get_on_nope: long (nullable = true)\n",
      " |-- hr_10_get_off_nope: long (nullable = true)\n",
      " |-- hr_10_get_on_nope: long (nullable = true)\n",
      " |-- hr_11_get_off_nope: long (nullable = true)\n",
      " |-- hr_11_get_on_nope: long (nullable = true)\n",
      " |-- hr_12_get_off_nope: long (nullable = true)\n",
      " |-- hr_12_get_on_nope: long (nullable = true)\n",
      " |-- hr_13_get_off_nope: long (nullable = true)\n",
      " |-- hr_13_get_on_nope: long (nullable = true)\n",
      " |-- hr_14_get_off_nope: long (nullable = true)\n",
      " |-- hr_14_get_on_nope: long (nullable = true)\n",
      " |-- hr_15_get_off_nope: long (nullable = true)\n",
      " |-- hr_15_get_on_nope: long (nullable = true)\n",
      " |-- hr_16_get_off_nope: long (nullable = true)\n",
      " |-- hr_16_get_on_nope: long (nullable = true)\n",
      " |-- hr_17_get_off_nope: long (nullable = true)\n",
      " |-- hr_17_get_on_nope: long (nullable = true)\n",
      " |-- hr_18_get_off_nope: long (nullable = true)\n",
      " |-- hr_18_get_on_nope: long (nullable = true)\n",
      " |-- hr_19_get_off_nope: long (nullable = true)\n",
      " |-- hr_19_get_on_nope: long (nullable = true)\n",
      " |-- hr_1_get_off_nope: long (nullable = true)\n",
      " |-- hr_1_get_on_nope: long (nullable = true)\n",
      " |-- hr_20_get_off_nope: long (nullable = true)\n",
      " |-- hr_20_get_on_nope: long (nullable = true)\n",
      " |-- hr_21_get_off_nope: long (nullable = true)\n",
      " |-- hr_21_get_on_nope: long (nullable = true)\n",
      " |-- hr_22_get_off_nope: long (nullable = true)\n",
      " |-- hr_22_get_on_nope: long (nullable = true)\n",
      " |-- hr_23_get_off_nope: long (nullable = true)\n",
      " |-- hr_23_get_on_nope: long (nullable = true)\n",
      " |-- hr_2_get_off_nope: long (nullable = true)\n",
      " |-- hr_2_get_on_nope: long (nullable = true)\n",
      " |-- hr_3_get_off_nope: long (nullable = true)\n",
      " |-- hr_3_get_on_nope: long (nullable = true)\n",
      " |-- hr_4_get_off_nope: long (nullable = true)\n",
      " |-- hr_4_get_on_nope: long (nullable = true)\n",
      " |-- hr_5_get_off_nope: long (nullable = true)\n",
      " |-- hr_5_get_on_nope: long (nullable = true)\n",
      " |-- hr_6_get_off_nope: long (nullable = true)\n",
      " |-- hr_6_get_on_nope: long (nullable = true)\n",
      " |-- hr_7_get_off_nope: long (nullable = true)\n",
      " |-- hr_7_get_on_nope: long (nullable = true)\n",
      " |-- hr_8_get_off_nope: long (nullable = true)\n",
      " |-- hr_8_get_on_nope: long (nullable = true)\n",
      " |-- hr_9_get_off_nope: long (nullable = true)\n",
      " |-- hr_9_get_on_nope: long (nullable = true)\n",
      " |-- job_ymd: string (nullable = true)\n",
      " |-- sbwy_rout_ln_nm: string (nullable = true)\n",
      " |-- sttn: string (nullable = true)\n",
      " |-- use_mm: string (nullable = true)\n",
      "\n"
     ]
    },
    {
     "name": "stderr",
     "output_type": "stream",
     "text": [
      "                                                                                \r"
     ]
    }
   ],
   "source": [
    "#df = spark.read.json(\"s3a://paasup/datasource/life/subway_time.json\")\n",
    "df = spark.read.json(\"s3a://paasup/datasource/life/subway_passengers_time.json\")\n",
    "df.printSchema()"
   ]
  },
  {
   "cell_type": "code",
   "execution_count": 4,
   "id": "6ec2c5a3-5a9e-4453-aace-fbdb269c3619",
   "metadata": {},
   "outputs": [
    {
     "name": "stderr",
     "output_type": "stream",
     "text": [
      "25/07/01 02:56:16 WARN SparkStringUtils: Truncated the string representation of a plan since it was too large. This behavior can be adjusted by setting 'spark.sql.debug.maxToStringFields'.\n"
     ]
    },
    {
     "name": "stdout",
     "output_type": "stream",
     "text": [
      "+--------------------+-----------------+----------------+------------------+-----------------+------------------+-----------------+------------------+-----------------+------------------+-----------------+------------------+-----------------+------------------+-----------------+------------------+-----------------+------------------+-----------------+------------------+-----------------+------------------+-----------------+-----------------+----------------+------------------+-----------------+------------------+-----------------+------------------+-----------------+------------------+-----------------+-----------------+----------------+-----------------+----------------+-----------------+----------------+-----------------+----------------+-----------------+----------------+-----------------+----------------+-----------------+----------------+-----------------+----------------+--------+---------------+----------------------+------+\n",
      "|     _corrupt_record|hr_0_get_off_nope|hr_0_get_on_nope|hr_10_get_off_nope|hr_10_get_on_nope|hr_11_get_off_nope|hr_11_get_on_nope|hr_12_get_off_nope|hr_12_get_on_nope|hr_13_get_off_nope|hr_13_get_on_nope|hr_14_get_off_nope|hr_14_get_on_nope|hr_15_get_off_nope|hr_15_get_on_nope|hr_16_get_off_nope|hr_16_get_on_nope|hr_17_get_off_nope|hr_17_get_on_nope|hr_18_get_off_nope|hr_18_get_on_nope|hr_19_get_off_nope|hr_19_get_on_nope|hr_1_get_off_nope|hr_1_get_on_nope|hr_20_get_off_nope|hr_20_get_on_nope|hr_21_get_off_nope|hr_21_get_on_nope|hr_22_get_off_nope|hr_22_get_on_nope|hr_23_get_off_nope|hr_23_get_on_nope|hr_2_get_off_nope|hr_2_get_on_nope|hr_3_get_off_nope|hr_3_get_on_nope|hr_4_get_off_nope|hr_4_get_on_nope|hr_5_get_off_nope|hr_5_get_on_nope|hr_6_get_off_nope|hr_6_get_on_nope|hr_7_get_off_nope|hr_7_get_on_nope|hr_8_get_off_nope|hr_8_get_on_nope|hr_9_get_off_nope|hr_9_get_on_nope| job_ymd|sbwy_rout_ln_nm|                  sttn|use_mm|\n",
      "+--------------------+-----------------+----------------+------------------+-----------------+------------------+-----------------+------------------+-----------------+------------------+-----------------+------------------+-----------------+------------------+-----------------+------------------+-----------------+------------------+-----------------+------------------+-----------------+------------------+-----------------+-----------------+----------------+------------------+-----------------+------------------+-----------------+------------------+-----------------+------------------+-----------------+-----------------+----------------+-----------------+----------------+-----------------+----------------+-----------------+----------------+-----------------+----------------+-----------------+----------------+-----------------+----------------+-----------------+----------------+--------+---------------+----------------------+------+\n",
      "|                   {|             NULL|            NULL|              NULL|             NULL|              NULL|             NULL|              NULL|             NULL|              NULL|             NULL|              NULL|             NULL|              NULL|             NULL|              NULL|             NULL|              NULL|             NULL|              NULL|             NULL|              NULL|             NULL|             NULL|            NULL|              NULL|             NULL|              NULL|             NULL|              NULL|             NULL|              NULL|             NULL|             NULL|            NULL|             NULL|            NULL|             NULL|            NULL|             NULL|            NULL|             NULL|            NULL|             NULL|            NULL|             NULL|            NULL|             NULL|            NULL|    NULL|           NULL|                  NULL|  NULL|\n",
      "|\"DESCRIPTION\" : {...|             NULL|            NULL|              NULL|             NULL|              NULL|             NULL|              NULL|             NULL|              NULL|             NULL|              NULL|             NULL|              NULL|             NULL|              NULL|             NULL|              NULL|             NULL|              NULL|             NULL|              NULL|             NULL|             NULL|            NULL|              NULL|             NULL|              NULL|             NULL|              NULL|             NULL|              NULL|             NULL|             NULL|            NULL|             NULL|            NULL|             NULL|            NULL|             NULL|            NULL|             NULL|            NULL|             NULL|            NULL|             NULL|            NULL|             NULL|            NULL|    NULL|           NULL|                  NULL|  NULL|\n",
      "|          \"DATA\" : [|             NULL|            NULL|              NULL|             NULL|              NULL|             NULL|              NULL|             NULL|              NULL|             NULL|              NULL|             NULL|              NULL|             NULL|              NULL|             NULL|              NULL|             NULL|              NULL|             NULL|              NULL|             NULL|             NULL|            NULL|              NULL|             NULL|              NULL|             NULL|              NULL|             NULL|              NULL|             NULL|             NULL|            NULL|             NULL|            NULL|             NULL|            NULL|             NULL|            NULL|             NULL|            NULL|             NULL|            NULL|             NULL|            NULL|             NULL|            NULL|    NULL|           NULL|                  NULL|  NULL|\n",
      "|                NULL|             3141|             903|             25358|            19975|             29735|            21101|             28392|            24805|             27142|            26919|             26595|            29548|             25672|            29973|             24871|            31809|             23768|            29075|             23523|            25641|             22819|            19867|              284|               8|             16985|            17606|             15450|            15411|             15180|            12070|              9851|             6108|                0|               0|                0|               0|               16|             695|             1920|           11411|             7385|            9784|            13140|           16724|            20497|           22729|            23012|           22058|20250603|          1호선|                동대문|202505|\n",
      "|                NULL|             2029|             135|             26787|            14772|             35484|            19944|             37690|            28057|             41748|            34739|             35373|            37791|             30801|            39076|             23128|            40567|             17324|            36104|             13959|            25464|              9798|            13532|              178|               3|              6785|             6943|              6811|             5587|              6995|             4091|              4711|             1539|                0|               0|                0|               0|                3|             148|              986|            2859|             5686|            4018|            11760|            8874|            24066|           14014|            19657|           12934|20250603|          1호선|                동묘앞|202505|\n",
      "|                NULL|             8636|            4299|            107071|           107330|            102596|           120554|            112334|           136363|            110573|           128103|            100942|           109089|            117071|           139680|            125876|           154396|            149015|           221567|            173736|           252289|            119129|           144704|              174|              18|             88200|           106540|             82681|           111385|             62690|            75904|             32808|            40326|                0|               0|                0|               0|               67|             688|            10374|           10783|            65184|           28788|           127458|           90177|           241420|          151470|           173299|          121799|20250603|          1호선|                서울역|202505|\n",
      "|                NULL|              899|             558|             51960|            16110|             49102|            21425|             45507|            24537|             45057|            34273|             36293|            43511|             30098|            56893|             27261|            71729|             28848|            98677|             26202|           156643|             13978|            62998|               32|               0|              9328|            58654|              8165|            50245|              5957|            30412|              3883|             9887|                0|               0|                0|               0|                3|             121|             5755|            1938|            27708|            3754|            74917|            7542|           197607|           10220|            92400|           13232|20250603|          1호선|                  시청|202505|\n",
      "|                NULL|             3017|             444|             21757|            21078|             20386|            22403|             19569|            24599|             21241|            25712|             19817|            24424|             22019|            25719|             23740|            31563|             26173|            42411|             31725|            51467|             23013|            21232|                0|               0|             17361|            15014|             16853|            13569|             14996|             9296|              9707|             4003|                0|               0|                0|               0|               32|             414|             2362|            9502|             9078|           10403|            25943|           22203|            53520|           32851|            32022|           23382|20250603|          1호선|                신설동|202505|\n",
      "|                NULL|             1514|             185|             38135|            26894|             47076|            34152|             47822|            39407|             48881|            41077|             45587|            45573|             38062|            49434|             35712|            49374|             29167|            44473|             27332|            38556|             18180|            21663|                0|               0|             12517|            14520|             12111|             9379|             10105|             5742|              6446|             2491|                0|               0|                0|               0|                3|             412|             2613|            5583|            11699|            9565|            21401|           21975|            39339|           31989|            33466|           25061|20250603|          1호선|                제기동|202505|\n",
      "|                NULL|             1197|            1849|             65148|            19287|             64261|            29367|             57961|            36133|             55914|            44956|             45403|            57305|             41765|            70806|             43344|            90034|             47578|           153352|             48501|           207901|             24152|            95764|                1|               0|             13620|            85725|             10083|            85689|              7636|            59844|              4907|            25251|                0|               0|                0|               0|                5|             123|             6182|            4308|            37918|            4490|           111722|            6934|           251173|           10338|           139717|           13609|20250603|          1호선|                  종각|202505|\n",
      "|                NULL|             2309|            1969|             58670|            22980|             69821|            33417|             67926|            46247|             63167|            49773|             55819|            61111|             49246|            70741|             46358|            78252|             43886|            89485|             42126|            93564|             22817|            58830|               28|               1|             14172|            52316|             11309|            54083|              8926|            41906|              5802|            19943|                0|               0|                0|               0|               16|             235|             2952|            4134|            13474|            4395|            28130|            6238|            66254|           10539|            64598|           15870|20250603|          1호선|               종로3가|202505|\n",
      "|                NULL|             1000|             399|             60818|            26261|             63893|            36716|             57583|            45576|             55062|            53250|             51853|            62928|             44015|            65436|             40831|            72578|             36222|            88115|             32458|            87752|             18149|            48815|                0|               0|             11132|            35299|              7953|            31506|              6143|            20545|              3838|             5756|                0|               0|                0|               0|                4|              61|             3801|            2085|            17700|            3316|            41844|            6317|            85359|           10856|            61775|           16574|20250603|          1호선|               종로5가|202505|\n",
      "|                NULL|             4101|             378|             43569|            36756|             49940|            42022|             50644|            48198|             52752|            50425|             53654|            52671|             51068|            56267|             51847|            58388|             53803|            55192|             60561|            47249|             39300|            28727|                0|               0|             25428|            22594|             23972|            17818|             21009|            11139|             12797|             4618|                1|               3|                0|               0|               22|            1130|             3050|           10791|            12057|           18854|            18441|           48790|            40786|           57966|            40391|           39717|20250603|          1호선|청량리(서울시립대입구)|202505|\n",
      "|                NULL|             7025|           11752|            155727|            58759|            106351|            76646|            103280|            93582|            118515|           108093|            108577|           119795|            103252|           144438|            113401|           170141|            143024|           249389|            172857|           311231|            104727|           208710|              106|               8|             64938|           161850|             54289|           178635|             45503|           156240|             25367|            70626|                0|               0|                0|               0|                4|             139|            11704|            8490|            55157|           18191|           151752|           40635|           306968|           61611|           319049|           55740|20250603|          2호선|                  강남|202505|\n",
      "|                NULL|             4606|             787|             35141|            63534|             34405|            55154|             38279|            51366|             42591|            48325|             47076|            44183|             56055|            48584|             59473|            52126|             74124|            55929|             94109|            59156|             64847|            40830|               85|               1|             47412|            33152|             38753|            26709|             33988|            18144|             18280|             7096|                0|               0|                0|               0|                1|              31|             1802|            8980|            24247|           22367|            25268|           64876|            41576|           99819|            37318|           76909|20250603|          2호선|    강변(동서울터미널)|202505|\n",
      "|                NULL|            12522|            7946|             51011|            46085|             53194|            43960|             60291|            51483|             64816|            55338|             66122|            59498|             72953|            64738|             85655|            75531|            113716|            84565|            154544|            92167|            108413|            73348|             1076|              15|             72995|            75663|             67858|            83655|             60311|            80415|             36375|            50078|                0|               0|                0|               0|                9|             378|             1903|           16590|            14877|           23580|            24441|           54172|            60035|           91550|            51599|           67987|20250603|          2호선|              건대입구|202505|\n",
      "|                NULL|             3656|            2939|             69411|            29110|             59193|            34072|             54911|            37635|             59688|            44777|             52745|            52138|             51186|            55038|             52598|            59929|             66083|            94798|             70127|           128759|             42298|            62953|               34|               0|             27764|            53620|             25127|            52583|             24102|            38648|             13273|            15866|                0|               0|                0|               0|                0|              24|             6705|            2755|            28338|           11558|            57465|           25517|           155736|           36188|           128133|           31171|20250603|          2호선|     교대(법원.검찰청)|202505|\n",
      "|                NULL|            14434|            3477|             57777|            76414|             48057|            69126|             53744|            74521|             67402|            73275|             64942|            66673|             70549|            72759|             86222|            86910|            115126|           134497|            161793|           190796|            126461|            98165|              249|               6|             88918|            62949|             90865|            52039|             86378|            40254|             50801|            19015|                0|               0|                0|               0|               11|             388|             5141|           40599|            20559|           53823|            79454|          137245|           210712|          180922|           133589|          118912|20250603|          2호선|        구로디지털단지|202505|\n",
      "|                NULL|             7613|            1377|             23741|            45090|             23339|            37151|             27267|            38311|             30920|            37708|             33129|            35754|             41576|            36140|             48216|            41323|             65845|            42575|            100012|            48193|             71832|            27506|              143|               5|             51940|            21716|             48934|            20109|             44683|            16810|             25554|             8844|                0|               0|                0|               0|                4|              81|             1409|           13964|            13291|           28639|            19677|           73614|            42636|          117430|            24550|           76845|20250603|          2호선|        구의(광진구청)|202505|\n",
      "|                NULL|             9791|            1679|             31015|            48832|             27674|            41591|             30619|            46207|             32116|            45160|             34306|            40117|             41067|            41241|             48090|            43618|             65788|            49967|             98581|            53483|             82662|            31902|              117|               0|             58031|            26091|             56344|            23150|             56297|            17156|             34502|             9122|                0|               0|                0|               0|                3|              47|             2390|           11995|            10189|           28316|            20228|           83246|            41779|          122335|            36438|           82536|20250603|          2호선|        낙성대(강감찬)|202505|\n",
      "+--------------------+-----------------+----------------+------------------+-----------------+------------------+-----------------+------------------+-----------------+------------------+-----------------+------------------+-----------------+------------------+-----------------+------------------+-----------------+------------------+-----------------+------------------+-----------------+------------------+-----------------+-----------------+----------------+------------------+-----------------+------------------+-----------------+------------------+-----------------+------------------+-----------------+-----------------+----------------+-----------------+----------------+-----------------+----------------+-----------------+----------------+-----------------+----------------+-----------------+----------------+-----------------+----------------+-----------------+----------------+--------+---------------+----------------------+------+\n",
      "only showing top 20 rows\n",
      "\n"
     ]
    }
   ],
   "source": [
    "df.createOrReplaceTempView(\"my_table_name\")\n",
    "df.show()"
   ]
  },
  {
   "cell_type": "code",
   "execution_count": 5,
   "id": "9887ea50-afc8-48e2-9481-fcd80b408e08",
   "metadata": {},
   "outputs": [
    {
     "name": "stdout",
     "output_type": "stream",
     "text": [
      "2025-07-01 02:56:26,566 - INFO - EltManager:194 - ETL/FL Started : [ delta1 paasup bronze/life SUBWAY_PASSENGERS_TIME (['subway_passengers_time.json']) ]\n",
      "2025-07-01 02:56:26,568 - DEBUG - JSONTableManager:040 - ('loadTable = ', 'subway_passengers_time.json', None, None)\n",
      "2025-07-01 02:56:26,569 - DEBUG - JSONTableManager:043 - ('file_path = ', 's3a://paasup/datasource/life/subway_passengers_time.json')\n",
      "2025-07-01 02:56:26,569 - DEBUG - JSONTableManager:048 - ('subway_passengers_time.json', True, True, None, None, None)\n"
     ]
    },
    {
     "name": "stderr",
     "output_type": "stream",
     "text": [
      "[Stage 2:=============================>                             (1 + 1) / 2]\r"
     ]
    },
    {
     "name": "stdout",
     "output_type": "stream",
     "text": [
      "2025-07-01 02:56:27,948 - DEBUG - JSONTableManager:055 - ('TempView = ', 'subway_passengers')\n"
     ]
    },
    {
     "name": "stderr",
     "output_type": "stream",
     "text": [
      "[Stage 3:=============================>                             (1 + 1) / 2]\r"
     ]
    },
    {
     "name": "stdout",
     "output_type": "stream",
     "text": [
      "2025-07-01 02:56:29,500 - INFO - EltManager:226 - Source count = 74,282 / expected loop 1 / 2.93\n",
      "2025-07-01 02:56:29,500 - DEBUG - JSONTableManager:040 - ('loadTable = ', 'subway_passengers_time.json', None, None)\n",
      "2025-07-01 02:56:29,501 - DEBUG - JSONTableManager:043 - ('file_path = ', 's3a://paasup/datasource/life/subway_passengers_time.json')\n",
      "2025-07-01 02:56:29,501 - DEBUG - JSONTableManager:048 - ('subway_passengers_time.json', True, True, None, None, None)\n"
     ]
    },
    {
     "name": "stderr",
     "output_type": "stream",
     "text": [
      "[Stage 6:=============================>                             (1 + 1) / 2]\r"
     ]
    },
    {
     "name": "stdout",
     "output_type": "stream",
     "text": [
      "2025-07-01 02:56:30,884 - DEBUG - JSONTableManager:055 - ('TempView = ', 'subway_passengers')\n",
      "2025-07-01 02:56:30,943 - DEBUG - DeltaTableManager:099 - ('saveTable = ', 'SUBWAY_PASSENGERS_TIME', None, None, 'overwrite', False, None)\n"
     ]
    },
    {
     "name": "stderr",
     "output_type": "stream",
     "text": [
      "25/07/01 02:56:50 WARN AmazonHttpClient: SSL Certificate checking for endpoints has been explicitly disabled.\n",
      "[Stage 18:===================================================>    (46 + 1) / 50]\r"
     ]
    },
    {
     "name": "stdout",
     "output_type": "stream",
     "text": [
      "2025-07-01 02:56:55,528 - DEBUG - DeltaTableManager:119 - saveTable : before = 0, after = 74282 [ SUBWAY_PASSENGERS_TIME ]\n"
     ]
    },
    {
     "name": "stderr",
     "output_type": "stream",
     "text": [
      "                                                                                \r"
     ]
    },
    {
     "name": "stdout",
     "output_type": "stream",
     "text": [
      "2025-07-01 02:57:03,073 - DEBUG - DeltaTableManager:338 - \n",
      "        version       operation  numDeletedRows   numOutputRows                        operationParameters\n",
      "              1           WRITE            None           74282 {'mode': 'Overwrite', 'partitionBy': '[]'}\n",
      "2025-07-01 02:57:03,104 - INFO - EltManager:268 - Source Loading Chunk : json1 paasup datasource/life ['subway_passengers_time.json'] / seq=1 offset=0 chunk_size=74,282 / elipsed=33.60\n",
      "2025-07-01 02:57:03,104 - INFO - EltManager:270 - Target Saving Chunk : delta1 paasup bronze/life SUBWAY_PASSENGERS_TIME / elipsed=0.00\n",
      "2025-07-01 02:57:03,221 - DEBUG - JSONTableManager:091 - ('archive = ', 'subway_passengers_time.json', None, None)\n",
      "2025-07-01 02:57:03,893 - INFO - JSONTableManager:114 - ('Archived ', 's3a://paasup/datasource/life/subway_passengers_time.json > s3a://paasup/archive/20250701/subway_passengers_time.json')\n",
      "2025-07-01 02:57:03,901 - INFO - EltManager:281 - Source Loading Count : json1 paasup datasource/life ['subway_passengers_time.json'] (74,282)\n",
      "2025-07-01 02:57:03,902 - DEBUG - DeltaTableManager:077 - ('loadTable = ', 'SUBWAY_PASSENGERS_TIME', None, None, None, 50000000)\n",
      "2025-07-01 02:57:03,902 - DEBUG - DeltaTableManager:080 - ('target_table = ', 's3a://paasup/bronze/life/SUBWAY_PASSENGERS_TIME')\n",
      "2025-07-01 02:57:03,902 - DEBUG - DeltaTableManager:057 - ('load_table_with_row = ', None, 'SUBWAY_PASSENGERS_TIME', 's3a://paasup/bronze/life/SUBWAY_PASSENGERS_TIME')\n"
     ]
    },
    {
     "name": "stderr",
     "output_type": "stream",
     "text": [
      "[Stage 24:======================================================> (49 + 1) / 50]\r"
     ]
    },
    {
     "name": "stdout",
     "output_type": "stream",
     "text": [
      "2025-07-01 02:58:05,008 - DEBUG - DeltaTableManager:084 - ('dt_with_row size & offset = ', 74282, None)\n"
     ]
    },
    {
     "name": "stderr",
     "output_type": "stream",
     "text": [
      "[Stage 29:=======================================>                (35 + 1) / 50]\r"
     ]
    },
    {
     "name": "stdout",
     "output_type": "stream",
     "text": [
      "2025-07-01 02:58:06,234 - INFO - EltManager:284 - Target Saving Count : delta1 paasup bronze/life SUBWAY_PASSENGERS_TIME (74,282)\n"
     ]
    },
    {
     "name": "stderr",
     "output_type": "stream",
     "text": [
      "[Stage 39:====================================>                   (33 + 1) / 50]\r"
     ]
    },
    {
     "name": "stdout",
     "output_type": "stream",
     "text": [
      "2025-07-01 02:58:08,708 - INFO - EltManager:288 - ETL/FL Done : [ delta1 paasup bronze/life SUBWAY_PASSENGERS_TIME / True (74,282, 74,282, 0) / 102.14 ]\n"
     ]
    },
    {
     "name": "stderr",
     "output_type": "stream",
     "text": [
      "[Stage 44:==========================================>             (38 + 1) / 50]\r"
     ]
    },
    {
     "name": "stdout",
     "output_type": "stream",
     "text": [
      "2025-07-01 02:58:10,016 - DEBUG - EltManager:115 - self.record is True\n",
      "2025-07-01 02:58:10,123 - DEBUG - PostgreSQLTableManager:302 - ('saveTable = ', 'elt_manager_log', 'jdbc:postgresql://demo01-postgresql2-postgresql-ha-postgresql.demo01-postgresql2.svc.cluster.local:5432/postgres')\n",
      "2025-07-01 02:58:10,124 - DEBUG - PostgreSQLTableManager:269 - ('loadTable = ', 'elt_manager_log', None, 100000)\n",
      "2025-07-01 02:58:10,124 - DEBUG - PostgreSQLTableManager:272 - ('target_table = ', 'public.elt_manager_log')\n",
      "2025-07-01 02:58:10,125 - DEBUG - PostgreSQLTableManager:279 - ('connection_url = ', 'jdbc:postgresql://demo01-postgresql2-postgresql-ha-postgresql.demo01-postgresql2.svc.cluster.local:5432/postgres')\n"
     ]
    },
    {
     "name": "stderr",
     "output_type": "stream",
     "text": [
      "[Stage 51:>                                                         (0 + 1) / 2]\r"
     ]
    },
    {
     "name": "stdout",
     "output_type": "stream",
     "text": [
      "2025-07-01 02:58:12,301 - DEBUG - PostgreSQLTableManager:269 - ('loadTable = ', 'elt_manager_log', None, 100000)\n",
      "2025-07-01 02:58:12,302 - DEBUG - PostgreSQLTableManager:272 - ('target_table = ', 'public.elt_manager_log')\n",
      "2025-07-01 02:58:12,302 - DEBUG - PostgreSQLTableManager:279 - ('connection_url = ', 'jdbc:postgresql://demo01-postgresql2-postgresql-ha-postgresql.demo01-postgresql2.svc.cluster.local:5432/postgres')\n",
      "2025-07-01 02:58:12,440 - DEBUG - PostgreSQLTableManager:334 - saveTable : before = 9643, after = 9644 [ public.elt_manager_log ]\n"
     ]
    },
    {
     "name": "stderr",
     "output_type": "stream",
     "text": [
      "                                                                                \r"
     ]
    }
   ],
   "source": [
    "source_objects = ['subway_passengers_time.json']; target_object = \"SUBWAY_PASSENGERS_TIME\"\n",
    "#source_tm = em.getSourceManager()\n",
    "#source_df = source_tm.loadTable(source_objects[0])\n",
    "\n",
    "#source_inc_query = f\"\"\"\n",
    "#select * from SUBWAY_INFO\n",
    "#\"\"\" \n",
    "\n",
    "source_df, target_df, valid = em.ingest_full(source_objects, target_object)"
   ]
  },
  {
   "cell_type": "markdown",
   "id": "afda94ca-8d43-44d7-9f49-f72dee16dea8",
   "metadata": {},
   "source": [
    "### Bronze > Gold"
   ]
  },
  {
   "cell_type": "code",
   "execution_count": 7,
   "id": "76c62dca-721e-4644-b4c1-961f73033989",
   "metadata": {},
   "outputs": [
    {
     "name": "stdout",
     "output_type": "stream",
     "text": [
      "2025-07-01 02:58:12,538 - DEBUG - ResourceManager:052 - ('source_type_name = delata  :', 'paasup', 'bronze/life')\n",
      "2025-07-01 02:58:12,547 - DEBUG - ResourceManager:052 - ('source_type_name = delata  :', 'paasup', 'gold')\n"
     ]
    }
   ],
   "source": [
    "source_type = \"delta1\"; source_topic = \"paasup\";  source_dpath=\"bronze/life\"\n",
    "target_type = \"delta1\"; target_topic = \"paasup\";  target_dpath=\"gold\"\n",
    "em.init_rsm(source_type, source_topic, source_dpath, target_type, target_topic, target_dpath, 50000000)"
   ]
  },
  {
   "cell_type": "code",
   "execution_count": 8,
   "id": "73e0fa19-55e1-420b-8e93-87464392cb4e",
   "metadata": {},
   "outputs": [
    {
     "name": "stdout",
     "output_type": "stream",
     "text": [
      "2025-07-01 02:58:12,597 - INFO - EltManager:334 - ETL/IC Started : [ delta1 paasup gold subway_passengers_time (['SUBWAY_PASSENGERS_TIME']) ]\n",
      "2025-07-01 02:58:12,598 - DEBUG - DeltaTableManager:155 - ('queryTable = ', \"\\n                        select use_mm use_ym\\n                             , sbwy_rout_ln_nm line_no\\n                             , sttn station_name\\n                             , '00시-01시' time_term\\n                             , hr_0_get_on_nope pass_in\\n                             , hr_0_get_off_nope pass_out\\n                             , job_ymd reg_date\\n                          from SUBWAY_PASSENGERS_TIME\\n                        union all \\n                        select use_mm use_ym\\n                             , sbwy_rout_ln_nm line_no\\n                             , sttn station_name\\n                             , '01시-02시' time_term\\n                             , hr_1_get_on_nope pass_in\\n                             , hr_1_get_off_nope pass_out\\n                             , job_ymd reg_date\\n                          from SUBWAY_PASSENGERS_TIME\\n                        union all \\n                        select use_mm use_ym\\n                             , sbwy_rout_ln_nm line_no\\n                             , sttn station_name\\n                             , '02시-03시' time_term\\n                             , hr_2_get_on_nope pass_in\\n                             , hr_2_get_off_nope pass_out\\n                             , job_ymd reg_date\\n                          from SUBWAY_PASSENGERS_TIME\\n                        union all \\n                        select use_mm use_ym\\n                             , sbwy_rout_ln_nm line_no\\n                             , sttn station_name\\n                             , '03시-04시' time_term\\n                             , hr_3_get_on_nope pass_in\\n                             , hr_3_get_off_nope pass_out\\n                             , job_ymd reg_date\\n                          from SUBWAY_PASSENGERS_TIME\\n                        union all \\n                        select use_mm use_ym\\n                             , sbwy_rout_ln_nm line_no\\n                             , sttn station_name\\n                             , '04시-05시' time_term\\n                             , hr_4_get_on_nope pass_in\\n                             , hr_4_get_off_nope pass_out\\n                             , job_ymd reg_date\\n                          from SUBWAY_PASSENGERS_TIME\\n                        union all \\n                        select use_mm use_ym\\n                             , sbwy_rout_ln_nm line_no\\n                             , sttn station_name\\n                             , '05시-06시' time_term\\n                             , hr_5_get_on_nope pass_in\\n                             , hr_5_get_off_nope pass_out\\n                             , job_ymd reg_date\\n                          from SUBWAY_PASSENGERS_TIME\\n                        union all \\n                        select use_mm use_ym\\n                             , sbwy_rout_ln_nm line_no\\n                             , sttn station_name\\n                             , '06시-07시' time_term\\n                             , hr_6_get_on_nope pass_in\\n                             , hr_6_get_off_nope pass_out\\n                             , job_ymd reg_date\\n                          from SUBWAY_PASSENGERS_TIME\\n                        union all \\n                        select use_mm use_ym\\n                             , sbwy_rout_ln_nm line_no\\n                             , sttn station_name\\n                             , '07시-08시' time_term\\n                             , hr_7_get_on_nope pass_in\\n                             , hr_7_get_off_nope pass_out\\n                             , job_ymd reg_date\\n                          from SUBWAY_PASSENGERS_TIME\\n                        union all \\n                        select use_mm use_ym\\n                             , sbwy_rout_ln_nm line_no\\n                             , sttn station_name\\n                             , '08시-09시' time_term\\n                             , hr_8_get_on_nope pass_in\\n                             , hr_8_get_off_nope pass_out\\n                             , job_ymd reg_date\\n                          from SUBWAY_PASSENGERS_TIME\\n                        union all \\n                        select use_mm use_ym\\n                             , sbwy_rout_ln_nm line_no\\n                             , sttn station_name\\n                             , '09시-10시' time_term\\n                             , hr_9_get_on_nope pass_in\\n                             , hr_9_get_off_nope pass_out\\n                             , job_ymd reg_date\\n                          from SUBWAY_PASSENGERS_TIME\\n                        union all \\n                        select use_mm use_ym\\n                             , sbwy_rout_ln_nm line_no\\n                             , sttn station_name\\n                             , '10시-11시' time_term\\n                             , hr_10_get_on_nope pass_in\\n                             , hr_10_get_off_nope pass_out\\n                             , job_ymd reg_date\\n                          from SUBWAY_PASSENGERS_TIME\\n                        union all \\n                        select use_mm use_ym\\n                             , sbwy_rout_ln_nm line_no\\n                             , sttn station_name\\n                             , '11시-12시' time_term\\n                             , hr_11_get_on_nope pass_in\\n                             , hr_11_get_off_nope pass_out\\n                             , job_ymd reg_date\\n                          from SUBWAY_PASSENGERS_TIME\\n                        union all \\n                        select use_mm use_ym\\n                             , sbwy_rout_ln_nm line_no\\n                             , sttn station_name\\n                             , '12시-13시' time_term\\n                             , hr_12_get_on_nope pass_in\\n                             , hr_12_get_off_nope pass_out\\n                             , job_ymd reg_date\\n                          from SUBWAY_PASSENGERS_TIME\\n                        union all \\n                        select use_mm use_ym\\n                             , sbwy_rout_ln_nm line_no\\n                             , sttn station_name\\n                             , '13시-14시' time_term\\n                             , hr_13_get_on_nope pass_in\\n                             , hr_13_get_off_nope pass_out\\n                             , job_ymd reg_date\\n                          from SUBWAY_PASSENGERS_TIME\\n                        union all \\n                        select use_mm use_ym\\n                             , sbwy_rout_ln_nm line_no\\n                             , sttn station_name\\n                             , '14시-15시' time_term\\n                             , hr_14_get_on_nope pass_in\\n                             , hr_14_get_off_nope pass_out\\n                             , job_ymd reg_date\\n                          from SUBWAY_PASSENGERS_TIME\\n                        union all \\n                        select use_mm use_ym\\n                             , sbwy_rout_ln_nm line_no\\n                             , sttn station_name\\n                             , '15시-16시' time_term\\n                             , hr_15_get_on_nope pass_in\\n                             , hr_15_get_off_nope pass_out\\n                             , job_ymd reg_date\\n                          from SUBWAY_PASSENGERS_TIME\\n                        union all \\n                        select use_mm use_ym\\n                             , sbwy_rout_ln_nm line_no\\n                             , sttn station_name\\n                             , '16시-17시' time_term\\n                             , hr_16_get_on_nope pass_in\\n                             , hr_16_get_off_nope pass_out\\n                             , job_ymd reg_date\\n                          from SUBWAY_PASSENGERS_TIME\\n                        union all \\n                        select use_mm use_ym\\n                             , sbwy_rout_ln_nm line_no\\n                             , sttn station_name\\n                             , '17시-18시' time_term\\n                             , hr_17_get_on_nope pass_in\\n                             , hr_17_get_off_nope pass_out\\n                             , job_ymd reg_date\\n                          from SUBWAY_PASSENGERS_TIME\\n                        union all \\n                        select use_mm use_ym\\n                             , sbwy_rout_ln_nm line_no\\n                             , sttn station_name\\n                             , '18시-19시' time_term\\n                             , hr_18_get_on_nope pass_in\\n                             , hr_18_get_off_nope pass_out\\n                             , job_ymd reg_date\\n                          from SUBWAY_PASSENGERS_TIME\\n                        union all \\n                        select use_mm use_ym\\n                             , sbwy_rout_ln_nm line_no\\n                             , sttn station_name\\n                             , '19시-20시' time_term\\n                             , hr_19_get_on_nope pass_in\\n                             , hr_19_get_off_nope pass_out\\n                             , job_ymd reg_date\\n                          from SUBWAY_PASSENGERS_TIME\\n                        union all \\n                        select use_mm use_ym\\n                             , sbwy_rout_ln_nm line_no\\n                             , sttn station_name\\n                             , '20시-21시' time_term\\n                             , hr_20_get_on_nope pass_in\\n                             , hr_20_get_off_nope pass_out\\n                             , job_ymd reg_date\\n                          from SUBWAY_PASSENGERS_TIME\\n                        union all \\n                        select use_mm use_ym\\n                             , sbwy_rout_ln_nm line_no\\n                             , sttn station_name\\n                             , '21시-22시' time_term\\n                             , hr_21_get_on_nope pass_in\\n                             , hr_21_get_off_nope pass_out\\n                             , job_ymd reg_date\\n                          from SUBWAY_PASSENGERS_TIME\\n                        union all \\n                        select use_mm use_ym\\n                             , sbwy_rout_ln_nm line_no\\n                             , sttn station_name\\n                             , '22시-23시' time_term\\n                             , hr_22_get_on_nope pass_in\\n                             , hr_22_get_off_nope pass_out\\n                             , job_ymd reg_date\\n                          from SUBWAY_PASSENGERS_TIME\\n                        union all \\n                        select use_mm use_ym\\n                             , sbwy_rout_ln_nm line_no\\n                             , sttn station_name\\n                             , '23시-24시' time_term\\n                             , hr_23_get_on_nope pass_in\\n                             , hr_23_get_off_nope pass_out\\n                             , job_ymd reg_date\\n                          from SUBWAY_PASSENGERS_TIME\\n\", ['SUBWAY_PASSENGERS_TIME'], None, None, None)\n",
      "2025-07-01 02:58:12,599 - DEBUG - DeltaTableManager:127 - ('loadTables = ', ['SUBWAY_PASSENGERS_TIME'], None, None, None)\n",
      "2025-07-01 02:58:13,309 - DEBUG - DeltaTableManager:166 - ('delSert = ', '\\n 1=1\\n', 'subway_passengers_time', None, None, None)\n"
     ]
    },
    {
     "name": "stderr",
     "output_type": "stream",
     "text": [
      "25/07/01 02:58:20 WARN AmazonHttpClient: SSL Certificate checking for endpoints has been explicitly disabled.\n",
      "25/07/01 02:58:56 WARN AmazonHttpClient: SSL Certificate checking for endpoints has been explicitly disabled.\n",
      "[Stage 129:=================================================>     (45 + 1) / 50]\r"
     ]
    },
    {
     "name": "stdout",
     "output_type": "stream",
     "text": [
      "2025-07-01 02:58:59,855 - DEBUG - DeltaTableManager:200 - delSert : before = 1767864, after = 1782768, del = 1767864 [ s3a://paasup/gold/subway_passengers_time / \n",
      " 1=1\n",
      " ]\n"
     ]
    },
    {
     "name": "stderr",
     "output_type": "stream",
     "text": [
      "                                                                                \r"
     ]
    },
    {
     "name": "stdout",
     "output_type": "stream",
     "text": [
      "2025-07-01 02:59:00,400 - DEBUG - DeltaTableManager:338 - \n",
      "        version       operation  numDeletedRows   numOutputRows                     operationParameters\n",
      "              2           WRITE            None         1782768 {'mode': 'Append', 'partitionBy': '[]'}\n",
      "              1          DELETE         1767864            None               {'predicate': '[\"true\"]'}\n"
     ]
    },
    {
     "name": "stderr",
     "output_type": "stream",
     "text": [
      "[Stage 136:==================================================>    (44 + 1) / 48]\r"
     ]
    },
    {
     "name": "stdout",
     "output_type": "stream",
     "text": [
      "2025-07-01 02:59:03,761 - INFO - EltManager:369 - Source Loading : delta1 paasup bronze/life ['SUBWAY_PASSENGERS_TIME'] / source_size=1,782,768 / elipsed=51.16\n",
      "2025-07-01 02:59:03,762 - INFO - EltManager:371 - Target  Saving : delta1 paasup gold subway_passengers_time / delsert_size=1,782,768 (before=1,767,864, after=1,782,768, del=1,767,864) / elipsed=0.00\n"
     ]
    },
    {
     "name": "stderr",
     "output_type": "stream",
     "text": [
      "[Stage 140:==================================================>    (46 + 1) / 50]\r"
     ]
    },
    {
     "name": "stdout",
     "output_type": "stream",
     "text": [
      "2025-07-01 02:59:04,723 - DEBUG - DeltaTableManager:284 - ('target_table=', 's3a://paasup/gold/subway_passengers_time', ', condition= ', '\\n 1=1\\n', ', count=', 1782768)\n",
      "2025-07-01 02:59:04,724 - INFO - EltManager:375 - ETL/IC Done : [ delta1 paasup gold subway_passengers_time / True (1,782,768, 1,782,768, 0) / 52.13 ]\n",
      "2025-07-01 02:59:04,725 - DEBUG - EltManager:115 - self.record is True\n",
      "2025-07-01 02:59:04,762 - DEBUG - PostgreSQLTableManager:302 - ('saveTable = ', 'elt_manager_log', 'jdbc:postgresql://demo01-postgresql2-postgresql-ha-postgresql.demo01-postgresql2.svc.cluster.local:5432/postgres')\n",
      "2025-07-01 02:59:04,763 - DEBUG - PostgreSQLTableManager:269 - ('loadTable = ', 'elt_manager_log', None, 100000)\n",
      "2025-07-01 02:59:04,763 - DEBUG - PostgreSQLTableManager:272 - ('target_table = ', 'public.elt_manager_log')\n",
      "2025-07-01 02:59:04,764 - DEBUG - PostgreSQLTableManager:279 - ('connection_url = ', 'jdbc:postgresql://demo01-postgresql2-postgresql-ha-postgresql.demo01-postgresql2.svc.cluster.local:5432/postgres')\n"
     ]
    },
    {
     "name": "stderr",
     "output_type": "stream",
     "text": [
      "                                                                                \r"
     ]
    },
    {
     "name": "stdout",
     "output_type": "stream",
     "text": [
      "2025-07-01 02:59:05,239 - DEBUG - PostgreSQLTableManager:269 - ('loadTable = ', 'elt_manager_log', None, 100000)\n",
      "2025-07-01 02:59:05,240 - DEBUG - PostgreSQLTableManager:272 - ('target_table = ', 'public.elt_manager_log')\n",
      "2025-07-01 02:59:05,240 - DEBUG - PostgreSQLTableManager:279 - ('connection_url = ', 'jdbc:postgresql://demo01-postgresql2-postgresql-ha-postgresql.demo01-postgresql2.svc.cluster.local:5432/postgres')\n",
      "2025-07-01 02:59:05,345 - DEBUG - PostgreSQLTableManager:334 - saveTable : before = 9644, after = 9645 [ public.elt_manager_log ]\n"
     ]
    }
   ],
   "source": [
    "source_objects = [\"SUBWAY_PASSENGERS_TIME\"];  target_object = \"subway_passengers_time\"\n",
    "\n",
    "source_inc_query = f\"\"\"\n",
    "                        select use_mm use_ym\n",
    "                             , sbwy_rout_ln_nm line_no\n",
    "                             , sttn station_name\n",
    "                             , '00시-01시' time_term\n",
    "                             , hr_0_get_on_nope pass_in\n",
    "                             , hr_0_get_off_nope pass_out\n",
    "                             , job_ymd reg_date\n",
    "                          from SUBWAY_PASSENGERS_TIME\n",
    "                        union all \n",
    "                        select use_mm use_ym\n",
    "                             , sbwy_rout_ln_nm line_no\n",
    "                             , sttn station_name\n",
    "                             , '01시-02시' time_term\n",
    "                             , hr_1_get_on_nope pass_in\n",
    "                             , hr_1_get_off_nope pass_out\n",
    "                             , job_ymd reg_date\n",
    "                          from SUBWAY_PASSENGERS_TIME\n",
    "                        union all \n",
    "                        select use_mm use_ym\n",
    "                             , sbwy_rout_ln_nm line_no\n",
    "                             , sttn station_name\n",
    "                             , '02시-03시' time_term\n",
    "                             , hr_2_get_on_nope pass_in\n",
    "                             , hr_2_get_off_nope pass_out\n",
    "                             , job_ymd reg_date\n",
    "                          from SUBWAY_PASSENGERS_TIME\n",
    "                        union all \n",
    "                        select use_mm use_ym\n",
    "                             , sbwy_rout_ln_nm line_no\n",
    "                             , sttn station_name\n",
    "                             , '03시-04시' time_term\n",
    "                             , hr_3_get_on_nope pass_in\n",
    "                             , hr_3_get_off_nope pass_out\n",
    "                             , job_ymd reg_date\n",
    "                          from SUBWAY_PASSENGERS_TIME\n",
    "                        union all \n",
    "                        select use_mm use_ym\n",
    "                             , sbwy_rout_ln_nm line_no\n",
    "                             , sttn station_name\n",
    "                             , '04시-05시' time_term\n",
    "                             , hr_4_get_on_nope pass_in\n",
    "                             , hr_4_get_off_nope pass_out\n",
    "                             , job_ymd reg_date\n",
    "                          from SUBWAY_PASSENGERS_TIME\n",
    "                        union all \n",
    "                        select use_mm use_ym\n",
    "                             , sbwy_rout_ln_nm line_no\n",
    "                             , sttn station_name\n",
    "                             , '05시-06시' time_term\n",
    "                             , hr_5_get_on_nope pass_in\n",
    "                             , hr_5_get_off_nope pass_out\n",
    "                             , job_ymd reg_date\n",
    "                          from SUBWAY_PASSENGERS_TIME\n",
    "                        union all \n",
    "                        select use_mm use_ym\n",
    "                             , sbwy_rout_ln_nm line_no\n",
    "                             , sttn station_name\n",
    "                             , '06시-07시' time_term\n",
    "                             , hr_6_get_on_nope pass_in\n",
    "                             , hr_6_get_off_nope pass_out\n",
    "                             , job_ymd reg_date\n",
    "                          from SUBWAY_PASSENGERS_TIME\n",
    "                        union all \n",
    "                        select use_mm use_ym\n",
    "                             , sbwy_rout_ln_nm line_no\n",
    "                             , sttn station_name\n",
    "                             , '07시-08시' time_term\n",
    "                             , hr_7_get_on_nope pass_in\n",
    "                             , hr_7_get_off_nope pass_out\n",
    "                             , job_ymd reg_date\n",
    "                          from SUBWAY_PASSENGERS_TIME\n",
    "                        union all \n",
    "                        select use_mm use_ym\n",
    "                             , sbwy_rout_ln_nm line_no\n",
    "                             , sttn station_name\n",
    "                             , '08시-09시' time_term\n",
    "                             , hr_8_get_on_nope pass_in\n",
    "                             , hr_8_get_off_nope pass_out\n",
    "                             , job_ymd reg_date\n",
    "                          from SUBWAY_PASSENGERS_TIME\n",
    "                        union all \n",
    "                        select use_mm use_ym\n",
    "                             , sbwy_rout_ln_nm line_no\n",
    "                             , sttn station_name\n",
    "                             , '09시-10시' time_term\n",
    "                             , hr_9_get_on_nope pass_in\n",
    "                             , hr_9_get_off_nope pass_out\n",
    "                             , job_ymd reg_date\n",
    "                          from SUBWAY_PASSENGERS_TIME\n",
    "                        union all \n",
    "                        select use_mm use_ym\n",
    "                             , sbwy_rout_ln_nm line_no\n",
    "                             , sttn station_name\n",
    "                             , '10시-11시' time_term\n",
    "                             , hr_10_get_on_nope pass_in\n",
    "                             , hr_10_get_off_nope pass_out\n",
    "                             , job_ymd reg_date\n",
    "                          from SUBWAY_PASSENGERS_TIME\n",
    "                        union all \n",
    "                        select use_mm use_ym\n",
    "                             , sbwy_rout_ln_nm line_no\n",
    "                             , sttn station_name\n",
    "                             , '11시-12시' time_term\n",
    "                             , hr_11_get_on_nope pass_in\n",
    "                             , hr_11_get_off_nope pass_out\n",
    "                             , job_ymd reg_date\n",
    "                          from SUBWAY_PASSENGERS_TIME\n",
    "                        union all \n",
    "                        select use_mm use_ym\n",
    "                             , sbwy_rout_ln_nm line_no\n",
    "                             , sttn station_name\n",
    "                             , '12시-13시' time_term\n",
    "                             , hr_12_get_on_nope pass_in\n",
    "                             , hr_12_get_off_nope pass_out\n",
    "                             , job_ymd reg_date\n",
    "                          from SUBWAY_PASSENGERS_TIME\n",
    "                        union all \n",
    "                        select use_mm use_ym\n",
    "                             , sbwy_rout_ln_nm line_no\n",
    "                             , sttn station_name\n",
    "                             , '13시-14시' time_term\n",
    "                             , hr_13_get_on_nope pass_in\n",
    "                             , hr_13_get_off_nope pass_out\n",
    "                             , job_ymd reg_date\n",
    "                          from SUBWAY_PASSENGERS_TIME\n",
    "                        union all \n",
    "                        select use_mm use_ym\n",
    "                             , sbwy_rout_ln_nm line_no\n",
    "                             , sttn station_name\n",
    "                             , '14시-15시' time_term\n",
    "                             , hr_14_get_on_nope pass_in\n",
    "                             , hr_14_get_off_nope pass_out\n",
    "                             , job_ymd reg_date\n",
    "                          from SUBWAY_PASSENGERS_TIME\n",
    "                        union all \n",
    "                        select use_mm use_ym\n",
    "                             , sbwy_rout_ln_nm line_no\n",
    "                             , sttn station_name\n",
    "                             , '15시-16시' time_term\n",
    "                             , hr_15_get_on_nope pass_in\n",
    "                             , hr_15_get_off_nope pass_out\n",
    "                             , job_ymd reg_date\n",
    "                          from SUBWAY_PASSENGERS_TIME\n",
    "                        union all \n",
    "                        select use_mm use_ym\n",
    "                             , sbwy_rout_ln_nm line_no\n",
    "                             , sttn station_name\n",
    "                             , '16시-17시' time_term\n",
    "                             , hr_16_get_on_nope pass_in\n",
    "                             , hr_16_get_off_nope pass_out\n",
    "                             , job_ymd reg_date\n",
    "                          from SUBWAY_PASSENGERS_TIME\n",
    "                        union all \n",
    "                        select use_mm use_ym\n",
    "                             , sbwy_rout_ln_nm line_no\n",
    "                             , sttn station_name\n",
    "                             , '17시-18시' time_term\n",
    "                             , hr_17_get_on_nope pass_in\n",
    "                             , hr_17_get_off_nope pass_out\n",
    "                             , job_ymd reg_date\n",
    "                          from SUBWAY_PASSENGERS_TIME\n",
    "                        union all \n",
    "                        select use_mm use_ym\n",
    "                             , sbwy_rout_ln_nm line_no\n",
    "                             , sttn station_name\n",
    "                             , '18시-19시' time_term\n",
    "                             , hr_18_get_on_nope pass_in\n",
    "                             , hr_18_get_off_nope pass_out\n",
    "                             , job_ymd reg_date\n",
    "                          from SUBWAY_PASSENGERS_TIME\n",
    "                        union all \n",
    "                        select use_mm use_ym\n",
    "                             , sbwy_rout_ln_nm line_no\n",
    "                             , sttn station_name\n",
    "                             , '19시-20시' time_term\n",
    "                             , hr_19_get_on_nope pass_in\n",
    "                             , hr_19_get_off_nope pass_out\n",
    "                             , job_ymd reg_date\n",
    "                          from SUBWAY_PASSENGERS_TIME\n",
    "                        union all \n",
    "                        select use_mm use_ym\n",
    "                             , sbwy_rout_ln_nm line_no\n",
    "                             , sttn station_name\n",
    "                             , '20시-21시' time_term\n",
    "                             , hr_20_get_on_nope pass_in\n",
    "                             , hr_20_get_off_nope pass_out\n",
    "                             , job_ymd reg_date\n",
    "                          from SUBWAY_PASSENGERS_TIME\n",
    "                        union all \n",
    "                        select use_mm use_ym\n",
    "                             , sbwy_rout_ln_nm line_no\n",
    "                             , sttn station_name\n",
    "                             , '21시-22시' time_term\n",
    "                             , hr_21_get_on_nope pass_in\n",
    "                             , hr_21_get_off_nope pass_out\n",
    "                             , job_ymd reg_date\n",
    "                          from SUBWAY_PASSENGERS_TIME\n",
    "                        union all \n",
    "                        select use_mm use_ym\n",
    "                             , sbwy_rout_ln_nm line_no\n",
    "                             , sttn station_name\n",
    "                             , '22시-23시' time_term\n",
    "                             , hr_22_get_on_nope pass_in\n",
    "                             , hr_22_get_off_nope pass_out\n",
    "                             , job_ymd reg_date\n",
    "                          from SUBWAY_PASSENGERS_TIME\n",
    "                        union all \n",
    "                        select use_mm use_ym\n",
    "                             , sbwy_rout_ln_nm line_no\n",
    "                             , sttn station_name\n",
    "                             , '23시-24시' time_term\n",
    "                             , hr_23_get_on_nope pass_in\n",
    "                             , hr_23_get_off_nope pass_out\n",
    "                             , job_ymd reg_date\n",
    "                          from SUBWAY_PASSENGERS_TIME\n",
    "\"\"\"\n",
    "# 전부 삭제 \n",
    "target_condition = f\"\"\"\n",
    " 1=1\n",
    "\"\"\"\n",
    "source_df, target_df, valid = em.ingest_increment(source_objects, target_object, source_inc_query, target_condition)"
   ]
  },
  {
   "cell_type": "markdown",
   "id": "d63315c1-fbd9-4214-8285-d647c209d512",
   "metadata": {},
   "source": [
    "### Gold > MART"
   ]
  },
  {
   "cell_type": "code",
   "execution_count": 9,
   "id": "47eadb3a-3044-4b54-800e-30788845e8ac",
   "metadata": {},
   "outputs": [
    {
     "name": "stdout",
     "output_type": "stream",
     "text": [
      "2025-07-01 02:59:05,349 - DEBUG - ResourceManager:052 - ('source_type_name = delata  :', 'paasup', 'gold')\n"
     ]
    }
   ],
   "source": [
    "source_type = \"delta1\"; source_topic = \"paasup\";  source_dpath=\"gold\"\n",
    "target_type = \"mart\"; target_topic = \"postgres\";  target_dpath=None\n",
    "em.init_rsm(source_type, source_topic, source_dpath, target_type, target_topic, target_dpath, 500000)"
   ]
  },
  {
   "cell_type": "code",
   "execution_count": 10,
   "id": "66d8e8b5-0b5b-420f-9ddf-f45409122ea5",
   "metadata": {},
   "outputs": [
    {
     "name": "stdout",
     "output_type": "stream",
     "text": [
      "2025-07-01 02:59:05,369 - INFO - EltManager:334 - ETL/IC Started : [ mart postgres _ subway_passengers_time (['subway_passengers_time']) ]\n",
      "2025-07-01 02:59:05,371 - DEBUG - DeltaTableManager:155 - ('queryTable = ', '\\n                        select * from subway_passengers_time\\n                        where use_ym is not null\\n                    ', ['subway_passengers_time'], None, None, None)\n",
      "2025-07-01 02:59:05,372 - DEBUG - DeltaTableManager:127 - ('loadTables = ', ['subway_passengers_time'], None, None, None)\n",
      "2025-07-01 02:59:05,442 - DEBUG - PostgreSQLTableManager:397 - ('delSert = ', '\\n 1=1\\n', 'subway_passengers_time')\n",
      "2025-07-01 02:59:05,442 - DEBUG - PostgreSQLTableManager:269 - ('loadTable = ', 'subway_passengers_time', None, 100000)\n",
      "2025-07-01 02:59:05,443 - DEBUG - PostgreSQLTableManager:272 - ('target_table = ', 'postgres.public.subway_passengers_time')\n",
      "2025-07-01 02:59:05,444 - DEBUG - PostgreSQLTableManager:279 - ('connection_url = ', 'jdbc:postgresql://demo01-postgresql2-postgresql-ha-postgresql.demo01-postgresql2.svc.cluster.local:5432/postgres')\n"
     ]
    },
    {
     "name": "stderr",
     "output_type": "stream",
     "text": [
      "                                                                                \r"
     ]
    },
    {
     "name": "stdout",
     "output_type": "stream",
     "text": [
      "2025-07-01 02:59:11,884 - DEBUG - PostgreSQLTableManager:302 - ('saveTable = ', 'subway_passengers_time', 'jdbc:postgresql://demo01-postgresql2-postgresql-ha-postgresql.demo01-postgresql2.svc.cluster.local:5432/postgres')\n",
      "2025-07-01 02:59:11,885 - DEBUG - PostgreSQLTableManager:269 - ('loadTable = ', 'subway_passengers_time', None, 100000)\n",
      "2025-07-01 02:59:11,885 - DEBUG - PostgreSQLTableManager:272 - ('target_table = ', 'postgres.public.subway_passengers_time')\n",
      "2025-07-01 02:59:11,886 - DEBUG - PostgreSQLTableManager:279 - ('connection_url = ', 'jdbc:postgresql://demo01-postgresql2-postgresql-ha-postgresql.demo01-postgresql2.svc.cluster.local:5432/postgres')\n"
     ]
    },
    {
     "name": "stderr",
     "output_type": "stream",
     "text": [
      "[Stage 162:============================>                            (1 + 1) / 2]\r"
     ]
    },
    {
     "name": "stdout",
     "output_type": "stream",
     "text": [
      "2025-07-01 03:02:35,195 - DEBUG - PostgreSQLTableManager:269 - ('loadTable = ', 'subway_passengers_time', None, 100000)\n",
      "2025-07-01 03:02:35,196 - DEBUG - PostgreSQLTableManager:272 - ('target_table = ', 'postgres.public.subway_passengers_time')\n",
      "2025-07-01 03:02:35,197 - DEBUG - PostgreSQLTableManager:279 - ('connection_url = ', 'jdbc:postgresql://demo01-postgresql2-postgresql-ha-postgresql.demo01-postgresql2.svc.cluster.local:5432/postgres')\n"
     ]
    },
    {
     "name": "stderr",
     "output_type": "stream",
     "text": [
      "[Stage 163:>                                                        (0 + 1) / 1]\r"
     ]
    },
    {
     "name": "stdout",
     "output_type": "stream",
     "text": [
      "2025-07-01 03:02:36,128 - DEBUG - PostgreSQLTableManager:334 - saveTable : before = 0, after = 1782648 [ postgres.public.subway_passengers_time ]\n",
      "2025-07-01 03:02:36,129 - DEBUG - PostgreSQLTableManager:269 - ('loadTable = ', 'subway_passengers_time', None, 100000)\n",
      "2025-07-01 03:02:36,129 - DEBUG - PostgreSQLTableManager:272 - ('target_table = ', 'postgres.public.subway_passengers_time')\n",
      "2025-07-01 03:02:36,130 - DEBUG - PostgreSQLTableManager:279 - ('connection_url = ', 'jdbc:postgresql://demo01-postgresql2-postgresql-ha-postgresql.demo01-postgresql2.svc.cluster.local:5432/postgres')\n"
     ]
    },
    {
     "name": "stderr",
     "output_type": "stream",
     "text": [
      "                                                                                \r"
     ]
    },
    {
     "name": "stdout",
     "output_type": "stream",
     "text": [
      "2025-07-01 03:02:36,958 - DEBUG - PostgreSQLTableManager:421 - delSert : before = 1767744, after = 1782648, del = 1767744 [ postgres.public.subway_passengers_time / \n",
      " 1=1\n",
      " ]\n"
     ]
    },
    {
     "name": "stderr",
     "output_type": "stream",
     "text": [
      "[Stage 171:============================>                            (1 + 1) / 2]\r"
     ]
    },
    {
     "name": "stdout",
     "output_type": "stream",
     "text": [
      "2025-07-01 03:02:39,570 - INFO - EltManager:369 - Source Loading : delta1 paasup gold ['subway_passengers_time'] / source_size=1,782,648 / elipsed=214.20\n",
      "2025-07-01 03:02:39,571 - INFO - EltManager:371 - Target  Saving : mart postgres _ subway_passengers_time / delsert_size=1,782,648 (before=1,767,744, after=1,782,648, del=1,767,744) / elipsed=0.00\n",
      "2025-07-01 03:02:39,571 - DEBUG - PostgreSQLTableManager:269 - ('loadTable = ', 'subway_passengers_time', None, 100000)\n",
      "2025-07-01 03:02:39,572 - DEBUG - PostgreSQLTableManager:272 - ('target_table = ', 'postgres.public.subway_passengers_time')\n",
      "2025-07-01 03:02:39,573 - DEBUG - PostgreSQLTableManager:279 - ('connection_url = ', 'jdbc:postgresql://demo01-postgresql2-postgresql-ha-postgresql.demo01-postgresql2.svc.cluster.local:5432/postgres')\n"
     ]
    },
    {
     "name": "stderr",
     "output_type": "stream",
     "text": [
      "[Stage 174:>                                                        (0 + 1) / 1]\r"
     ]
    },
    {
     "name": "stdout",
     "output_type": "stream",
     "text": [
      "2025-07-01 03:02:40,822 - INFO - EltManager:375 - ETL/IC Done : [ mart postgres _ subway_passengers_time / True (1,782,648, 1,782,648, 0) / 215.45 ]\n",
      "2025-07-01 03:02:40,823 - DEBUG - EltManager:115 - self.record is True\n",
      "2025-07-01 03:02:40,858 - DEBUG - PostgreSQLTableManager:302 - ('saveTable = ', 'elt_manager_log', 'jdbc:postgresql://demo01-postgresql2-postgresql-ha-postgresql.demo01-postgresql2.svc.cluster.local:5432/postgres')\n",
      "2025-07-01 03:02:40,859 - DEBUG - PostgreSQLTableManager:269 - ('loadTable = ', 'elt_manager_log', None, 100000)\n",
      "2025-07-01 03:02:40,859 - DEBUG - PostgreSQLTableManager:272 - ('target_table = ', 'public.elt_manager_log')\n",
      "2025-07-01 03:02:40,859 - DEBUG - PostgreSQLTableManager:279 - ('connection_url = ', 'jdbc:postgresql://demo01-postgresql2-postgresql-ha-postgresql.demo01-postgresql2.svc.cluster.local:5432/postgres')\n"
     ]
    },
    {
     "name": "stderr",
     "output_type": "stream",
     "text": [
      "                                                                                \r"
     ]
    },
    {
     "name": "stdout",
     "output_type": "stream",
     "text": [
      "2025-07-01 03:02:41,883 - DEBUG - PostgreSQLTableManager:269 - ('loadTable = ', 'elt_manager_log', None, 100000)\n",
      "2025-07-01 03:02:41,884 - DEBUG - PostgreSQLTableManager:272 - ('target_table = ', 'public.elt_manager_log')\n",
      "2025-07-01 03:02:41,885 - DEBUG - PostgreSQLTableManager:279 - ('connection_url = ', 'jdbc:postgresql://demo01-postgresql2-postgresql-ha-postgresql.demo01-postgresql2.svc.cluster.local:5432/postgres')\n"
     ]
    },
    {
     "name": "stderr",
     "output_type": "stream",
     "text": [
      "                                                                                \r"
     ]
    },
    {
     "name": "stdout",
     "output_type": "stream",
     "text": [
      "2025-07-01 03:02:42,214 - DEBUG - PostgreSQLTableManager:334 - saveTable : before = 9645, after = 9646 [ public.elt_manager_log ]\n"
     ]
    }
   ],
   "source": [
    "source_objects = [\"subway_passengers_time\"];  target_object = \"subway_passengers_time\"\n",
    "source_inc_query = f\"\"\"\n",
    "                        select * from subway_passengers_time\n",
    "                        where use_ym is not null\n",
    "                    \"\"\"\n",
    "\n",
    "# 전부 삭제 \n",
    "target_condition = f\"\"\"\n",
    " 1=1\n",
    "\"\"\"\n",
    "source_df, target_df, valid = em.ingest_increment(source_objects, target_object, source_inc_query, target_condition)"
   ]
  },
  {
   "cell_type": "code",
   "execution_count": 11,
   "id": "a98649af-4c79-4144-aac0-5f50ae0e85a0",
   "metadata": {},
   "outputs": [
    {
     "name": "stderr",
     "output_type": "stream",
     "text": [
      "25/07/01 03:02:52 WARN ExecutorPodsWatchSnapshotSource: Kubernetes client has been closed.\n"
     ]
    }
   ],
   "source": [
    "spark.stop()"
   ]
  }
 ],
 "metadata": {
  "kernelspec": {
   "display_name": "Python 3 (ipykernel)",
   "language": "python",
   "name": "python3"
  },
  "language_info": {
   "codemirror_mode": {
    "name": "ipython",
    "version": 3
   },
   "file_extension": ".py",
   "mimetype": "text/x-python",
   "name": "python",
   "nbconvert_exporter": "python",
   "pygments_lexer": "ipython3",
   "version": "3.11.10"
  }
 },
 "nbformat": 4,
 "nbformat_minor": 5
}
