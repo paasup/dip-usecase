{
 "cells": [
  {
   "cell_type": "code",
   "execution_count": 1,
   "id": "e0057ea2-b6b9-4b11-82b2-22db006c8d9d",
   "metadata": {},
   "outputs": [
    {
     "ename": "ModuleNotFoundError",
     "evalue": "No module named 'pyspark'",
     "output_type": "error",
     "traceback": [
      "\u001b[0;31m---------------------------------------------------------------------------\u001b[0m",
      "\u001b[0;31mModuleNotFoundError\u001b[0m                       Traceback (most recent call last)",
      "Cell \u001b[0;32mIn[1], line 1\u001b[0m\n\u001b[0;32m----> 1\u001b[0m \u001b[38;5;28;01mfrom\u001b[39;00m\u001b[38;5;250m \u001b[39m\u001b[38;5;21;01mpyspark\u001b[39;00m\u001b[38;5;250m \u001b[39m\u001b[38;5;28;01mimport\u001b[39;00m SparkConf, SparkContext\n\u001b[1;32m      2\u001b[0m \u001b[38;5;28;01mfrom\u001b[39;00m\u001b[38;5;250m \u001b[39m\u001b[38;5;21;01mpyspark\u001b[39;00m\u001b[38;5;21;01m.\u001b[39;00m\u001b[38;5;21;01msql\u001b[39;00m\u001b[38;5;250m \u001b[39m\u001b[38;5;28;01mimport\u001b[39;00m SparkSession\n\u001b[1;32m      3\u001b[0m \u001b[38;5;28;01mfrom\u001b[39;00m\u001b[38;5;250m \u001b[39m\u001b[38;5;21;01mdelta\u001b[39;00m\u001b[38;5;21;01m.\u001b[39;00m\u001b[38;5;21;01mtables\u001b[39;00m\u001b[38;5;250m \u001b[39m\u001b[38;5;28;01mimport\u001b[39;00m DeltaTable\n",
      "\u001b[0;31mModuleNotFoundError\u001b[0m: No module named 'pyspark'"
     ]
    }
   ],
   "source": [
    "from pyspark import SparkConf, SparkContext\n",
    "from pyspark.sql import SparkSession\n",
    "from delta.tables import DeltaTable\n",
    "import os\n",
    "import boto3\n",
    "\n",
    "def define_conf(conf:SparkConf, notebook_name, notebook_namespace, s3_access_key, s3_secret_key, s3_endpoint):\n",
    "    \n",
    "    # Spark driver, executor 설정\n",
    "    conf.set(\"spark.submit.deployMode\", \"client\")\n",
    "    conf.set(\"spark.executor.instances\", \"1\")\n",
    "    conf.set(\"spark.executor.memory\", \"1G\")\n",
    "    conf.set(\"spark.driver.memory\", \"1G\")\n",
    "    conf.set(\"spark.executor.cores\", \"1\")\n",
    "    conf.set(\"spark.kubernetes.namespace\", notebook_namespace)\n",
    "    conf.set(\"spark.kubernetes.container.image\", \"paasup/spark:3.5.2-java17-python3.11-2\")\n",
    "    conf.set(\"spark.kubernetes.authenticate.driver.serviceAccountName\", \"default-editor\")\n",
    "    conf.set(\"spark.kubernetes.driver.pod.name\", os.environ[\"HOSTNAME\"])\n",
    "    conf.set(\"spark.driver.bindAddress\", \"0.0.0.0\")\n",
    "    conf.set(\"spark.driver.host\", notebook_name+ \"-headless.\" + notebook_namespace + \".svc.cluster.local\")\n",
    "    conf.set(\"spark.driver.port\", \"51810\")        \n",
    "    conf.set(\"spark.broadcast.port\", \"51811\")     \n",
    "    conf.set(\"spark.blockManager.port\", \"51812\")\n",
    "\n",
    "    # s3, deltalake 사용 시 필요한 jar 패키지 설정\n",
    "    jar_list = \",\".join([\n",
    "    \"org.apache.hadoop:hadoop-common:3.3.4\",\n",
    "    \"org.apache.hadoop:hadoop-aws:3.3.4\",\n",
    "    \"com.amazonaws:aws-java-sdk:1.11.655\", \n",
    "    \"io.delta:delta-spark_2.12:3.3.1\"\n",
    "    ])\n",
    "    conf.set(\"spark.jars.packages\", jar_list)  \n",
    "\n",
    "    # s3 세팅\n",
    "    conf.set(\"spark.hadoop.fs.s3a.impl\", \"org.apache.hadoop.fs.s3a.S3AFileSystem\")\n",
    "    conf.set('spark.hadoop.fs.s3a.path.style.access', 'true')\n",
    "    conf.set('spark.hadoop.fs.s3a.connection.ssl.enabled', 'true')\n",
    "    conf.set(\"spark.hadoop.fs.s3a.aws.credentials.provider\", \"org.apache.hadoop.fs.s3a.SimpleAWSCredentialsProvider\")\n",
    "    conf.set('spark.hadoop.fs.s3a.access.key', s3_access_key)\n",
    "    conf.set('spark.hadoop.fs.s3a.secret.key', s3_secret_key)\n",
    "    conf.set('spark.hadoop.fs.s3a.endpoint', s3_endpoint)\n",
    "\n",
    "    ### ssl 검증 비활성화\n",
    "    conf.set(\"spark.driver.extraJavaOptions\", \"-Dcom.amazonaws.sdk.disableCertChecking=true\")\n",
    "    conf.set(\"spark.executor.extraJavaOptions\", \"-Dcom.amazonaws.sdk.disableCertChecking=true\")\n",
    "\n",
    "    # deltalake 세팅\n",
    "    conf.set(\"spark.sql.extensions\", \"io.delta.sql.DeltaSparkSessionExtension\")\n",
    "    conf.set(\"spark.sql.catalog.spark_catalog\", \"org.apache.spark.sql.delta.catalog.DeltaCatalog\")    "
   ]
  },
  {
   "cell_type": "code",
   "execution_count": 2,
   "id": "56691d93-ff1d-4658-b0a5-0b2ecd3ba276",
   "metadata": {},
   "outputs": [],
   "source": [
    "# spark session 설정 : s3 access용 param \n",
    "notebook_name      = \"test\"\n",
    "notebook_namespace = \"demo01-kf\"\n",
    "\n",
    "s3_endpoint        = \"https://172.16.50.29:9000\"\n",
    "s3_access_key      = \"3JHV0NGHJP378DJ4CXJ484GFFTIQQ2CW5CQFWJBM64K0QN2LSTIKKBJP1\"\n",
    "s3_secret_key      = \"Z74G5VRH0SPPNUXY22K1MWPCCYS2PVZWHDWQ57L9YXO67DDXUE663DCTWDMTCA\"\n",
    "\n",
    "conf = SparkConf()\n",
    "define_conf(\n",
    "    conf=conf,\n",
    "    notebook_name      = notebook_name,\n",
    "    notebook_namespace = notebook_namespace,\n",
    "    s3_access_key      = s3_access_key, \n",
    "    s3_secret_key      = s3_secret_key,\n",
    "    s3_endpoint        = s3_endpoint\n",
    ")"
   ]
  },
  {
   "cell_type": "code",
   "execution_count": null,
   "id": "046e37bb-0802-47de-a66e-3b07b81024d8",
   "metadata": {
    "scrolled": true
   },
   "outputs": [],
   "source": [
    "# spark session build \n",
    "appname = 'test_select_delta'\n",
    "spark = SparkSession.builder.config(conf=conf)\\\n",
    "    .appName(appname)\\\n",
    "    .master(\"k8s://https://kubernetes.default.svc.cluster.local:443\")\\\n",
    "    .getOrCreate()"
   ]
  },
  {
   "cell_type": "code",
   "execution_count": 25,
   "id": "c1394798-856f-41e9-9462-97bed08a5281",
   "metadata": {},
   "outputs": [
    {
     "name": "stderr",
     "output_type": "stream",
     "text": [
      "                                                                                \r"
     ]
    },
    {
     "name": "stdout",
     "output_type": "stream",
     "text": [
      "+--------+-------+-----------------------+-------------+--------------+--------+\n",
      "|use_date|line_no|           station_name|passengers_in|passengers_out|reg_date|\n",
      "+--------+-------+-----------------------+-------------+--------------+--------+\n",
      "|20250401|  2호선|                   시청|        31730|         30459|20250404|\n",
      "|20250401|  2호선|             을지로입구|        55089|         57583|20250404|\n",
      "|20250401|  2호선|              을지로3가|        27974|         28001|20250404|\n",
      "|20250401|  2호선|              을지로4가|        17026|         17012|20250404|\n",
      "|20250401|  2호선|동대문역사문화공원(DDP)|        15742|         18349|20250404|\n",
      "|20250401|  2호선|                   신당|        16285|         16750|20250404|\n",
      "|20250401|  2호선|               상왕십리|        16398|         16250|20250404|\n",
      "|20250401|  2호선|       왕십리(성동구청)|        17431|         15366|20250404|\n",
      "|20250401|  2호선|                 한양대|        18819|         20960|20250404|\n",
      "|20250401|  2호선|                   뚝섬|        28369|         30008|20250404|\n",
      "|20250401|  2호선|                   성수|        51228|         55455|20250404|\n",
      "|20250401|  2호선|               건대입구|        38582|         39419|20250404|\n",
      "|20250401|  5호선|                   방화|         7715|          7486|20250404|\n",
      "|20250401|  5호선|                 개화산|         6857|          6522|20250404|\n",
      "|20250401|  5호선|               김포공항|        12464|          7845|20250404|\n",
      "|20250401|  5호선|                   송정|         6923|          6645|20250404|\n",
      "|20250401|  5호선|                   마곡|        14543|         14611|20250404|\n",
      "|20250401|  5호선|                   발산|        26366|         26603|20250404|\n",
      "|20250401|  5호선|                 우장산|        17015|         17096|20250404|\n",
      "|20250401|  5호선|                   화곡|        31791|         30078|20250404|\n",
      "+--------+-------+-----------------------+-------------+--------------+--------+\n",
      "only showing top 20 rows\n",
      "\n"
     ]
    }
   ],
   "source": [
    "# deltalake read\n",
    "\n",
    "delta_sql = f\"\"\"\n",
    "                        select  `사용일자` use_date\n",
    "                           ,`노선명` line_no\n",
    "                           ,`역명`  station_name\n",
    "                           ,cast(`승차총승객수` as int) pass_in\n",
    "                           ,cast(`하차총승객수` as int) pass_out\n",
    "                           ,`등록일자` reg_date\n",
    "                        from delta.s3a://deltalake/subway_passengers\n",
    "                        where `사용일자` like '202504'||'%'\n",
    "                    \"\"\"    \n",
    "delta_df = spark.sql(insert_sql)\n",
    "df_read = spark.read.format(\"delta\").load('s3a://deltalake/subway_passengers')\n",
    "df_read.show()\n",
    "\n",
    "\n"
   ]
  },
  {
   "cell_type": "code",
   "execution_count": null,
   "id": "cd4c7051-2693-4714-9a06-a51dbeb31c3b",
   "metadata": {},
   "outputs": [],
   "source": [
    "# #source file 삭제 (confinue...)\n",
    "# s3 = boto3.resource('s3')\n",
    "# bucket = s3.Bucket('dataload')\n",
    "# s3.Object('dataload', 'CARD_SUBWAY_MONTH_202504.csv').delete()\n"
   ]
  },
  {
   "cell_type": "code",
   "execution_count": 26,
   "id": "814d20a4-4639-4396-a13d-bd7da81b9d83",
   "metadata": {},
   "outputs": [
    {
     "name": "stdout",
     "output_type": "stream",
     "text": [
      "+--------+\n",
      "|count(1)|\n",
      "+--------+\n",
      "|   18515|\n",
      "+--------+\n",
      "\n"
     ]
    }
   ],
   "source": [
    "# load data수 query \n",
    "query = ' select count(*) from subway_passengers '\n",
    "spark.sql(query).show()"
   ]
  },
  {
   "cell_type": "code",
   "execution_count": 27,
   "id": "f8e7cb31-ae98-43ad-a632-9f7ac7076ce4",
   "metadata": {},
   "outputs": [
    {
     "name": "stderr",
     "output_type": "stream",
     "text": [
      "25/05/13 06:24:33 WARN ExecutorPodsWatchSnapshotSource: Kubernetes client has been closed.\n"
     ]
    }
   ],
   "source": [
    "# spark session 종료 \n",
    "spark.stop()"
   ]
  },
  {
   "cell_type": "code",
   "execution_count": null,
   "id": "54696898-6c28-4c0d-83be-39effffce626",
   "metadata": {},
   "outputs": [],
   "source": []
  }
 ],
 "metadata": {
  "kernelspec": {
   "display_name": "Python 3 (ipykernel)",
   "language": "python",
   "name": "python3"
  },
  "language_info": {
   "codemirror_mode": {
    "name": "ipython",
    "version": 3
   },
   "file_extension": ".py",
   "mimetype": "text/x-python",
   "name": "python",
   "nbconvert_exporter": "python",
   "pygments_lexer": "ipython3",
   "version": "3.11.10"
  }
 },
 "nbformat": 4,
 "nbformat_minor": 5
}
