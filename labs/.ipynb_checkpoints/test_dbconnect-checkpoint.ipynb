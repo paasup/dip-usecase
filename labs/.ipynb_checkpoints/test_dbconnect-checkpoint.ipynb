{
 "cells": [
  {
   "cell_type": "code",
   "execution_count": 1,
   "id": "553b13a6-d957-4e41-9712-8be9666fc9d9",
   "metadata": {},
   "outputs": [],
   "source": [
    "import psycopg2\n",
    "from psycopg2 import OperationalError"
   ]
  },
  {
   "cell_type": "code",
   "execution_count": 2,
   "id": "2124aa4f-6940-4b3e-b95d-67eef7a6d76a",
   "metadata": {},
   "outputs": [],
   "source": [
    "def test_postgresql_connection(dbname, user, password, host, port):\n",
    "    \"\"\"\n",
    "    PostgreSQL 데이터베이스 연결을 테스트하는 함수.\n",
    "\n",
    "    Args:\n",
    "        dbname (str): 데이터베이스 이름.\n",
    "        user (str): 사용자 이름.\n",
    "        password (str): 비밀번호.\n",
    "        host (str): 호스트 주소 (예: 'localhost' 또는 IP 주소).\n",
    "        port (str): 포트 번호 (일반적으로 '5432').\n",
    "\n",
    "    Returns:\n",
    "        bool: 연결 성공 시 True, 실패 시 False.\n",
    "    \"\"\"\n",
    "    conn = None\n",
    "    try:\n",
    "        # 데이터베이스 연결 시도\n",
    "        conn = psycopg2.connect(\n",
    "            dbname=dbname,\n",
    "            user=user,\n",
    "            password=password,\n",
    "            host=host,\n",
    "            port=port,\n",
    "            connect_timeout=5 # 연결 시도 시간 (초)\n",
    "        )\n",
    "        # 연결 성공 메시지 출력\n",
    "        print(\"🎉 PostgreSQL 데이터베이스 연결에 성공했습니다!\")\n",
    "        \n",
    "        # 연결 정보 확인 (선택 사항)\n",
    "        cur = conn.cursor()\n",
    "        print(\"PostgreSQL 데이터베이스 버전:\")\n",
    "        cur.execute(\"SELECT version();\")\n",
    "        db_version = cur.fetchone()\n",
    "        print(db_version)\n",
    "        cur.close()\n",
    "        \n",
    "        return True\n",
    "    except OperationalError as e:\n",
    "        # 연결 실패 시 오류 메시지 출력\n",
    "        print(f\"❌ PostgreSQL 데이터베이스 연결에 실패했습니다.\")\n",
    "        print(f\"오류: {e}\")\n",
    "        return False\n",
    "    except Exception as e:\n",
    "        # 기타 오류 발생 시\n",
    "        print(f\"🚫 알 수 없는 오류가 발생했습니다: {e}\")\n",
    "        return False\n",
    "    finally:\n",
    "        # 연결이 성공적으로 이루어졌다면 연결 종료\n",
    "        if conn is not None:\n",
    "            conn.close()\n",
    "            print(\"🔗 데이터베이스 연결을 종료했습니다.\")\n",
    "\n"
   ]
  },
  {
   "cell_type": "code",
   "execution_count": 3,
   "id": "6597d57b-1425-4450-bc53-907c0dd663b8",
   "metadata": {},
   "outputs": [],
   "source": [
    "# --- 데이터베이스 정보 입력 ---\n",
    "# ⚠️ 아래 값들을 실제 PostgreSQL 데이터베이스 정보로 변경하세요!\n",
    "db_name = \"YOUR_DB_NAME\"\n",
    "db_user = \"PG_USER\"\n",
    "db_password = \"PG_PWD\"\n",
    "db_host = \"PG_HOST\"  # 또는 데이터베이스 서버 IP 주소\n",
    "db_port = \"5432\"       # PostgreSQL 기본 포트"
   ]
  },
  {
   "cell_type": "code",
   "execution_count": 4,
   "id": "1291d3af-be0f-4c3e-83ba-4da8fffb699d",
   "metadata": {},
   "outputs": [
    {
     "name": "stdout",
     "output_type": "stream",
     "text": [
      "🎉 PostgreSQL 데이터베이스 연결에 성공했습니다!\n",
      "PostgreSQL 데이터베이스 버전:\n",
      "('PostgreSQL 15.4 on x86_64-pc-linux-gnu, compiled by gcc (Debian 10.2.1-6) 10.2.1 20210110, 64-bit',)\n",
      "🔗 데이터베이스 연결을 종료했습니다.\n"
     ]
    }
   ],
   "source": [
    "# --- 연결 테스트 실행 ---\n",
    "if __name__ == \"__main__\":\n",
    "    test_postgresql_connection(db_name, db_user, db_password, db_host, db_port)"
   ]
  },
  {
   "cell_type": "code",
   "execution_count": null,
   "id": "79a6f74c-258c-4799-9bee-d9df8a8be357",
   "metadata": {},
   "outputs": [],
   "source": []
  }
 ],
 "metadata": {
  "kernelspec": {
   "display_name": "Python 3 (ipykernel)",
   "language": "python",
   "name": "python3"
  },
  "language_info": {
   "codemirror_mode": {
    "name": "ipython",
    "version": 3
   },
   "file_extension": ".py",
   "mimetype": "text/x-python",
   "name": "python",
   "nbconvert_exporter": "python",
   "pygments_lexer": "ipython3",
   "version": "3.11.10"
  }
 },
 "nbformat": 4,
 "nbformat_minor": 5
}
