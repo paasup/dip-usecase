{
 "cells": [
  {
   "cell_type": "code",
   "execution_count": 6,
   "id": "2e9bf3a1-f14b-4967-a115-14362479f0bf",
   "metadata": {},
   "outputs": [
    {
     "name": "stdout",
     "output_type": "stream",
     "text": [
      "3JHV0NGHJP378DJ4CXJ484GFFTIQQ2CW5CQFWJBM64K0QN2LSTIKKBJP1\n",
      "demo01-postgresql2-postgresql-ha-postgresql.demo01-postgresql2.svc.cluster.local\n"
     ]
    }
   ],
   "source": [
    "from dotenv import load_dotenv\n",
    "import os\n",
    "\n",
    "dotenv_path = './config/.env'\n",
    "load_dotenv(dotenv_path=dotenv_path)\n",
    "\n",
    "S3_ACCESS_KEY = os.getenv(\"S3_ACCESS_KEY\")\n",
    "print(S3_ACCESS_KEY)\n",
    "print(os.getenv(\"PG_HOST\"))\n",
    "      "
   ]
  }
 ],
 "metadata": {
  "kernelspec": {
   "display_name": "Python 3 (ipykernel)",
   "language": "python",
   "name": "python3"
  },
  "language_info": {
   "codemirror_mode": {
    "name": "ipython",
    "version": 3
   },
   "file_extension": ".py",
   "mimetype": "text/x-python",
   "name": "python",
   "nbconvert_exporter": "python",
   "pygments_lexer": "ipython3",
   "version": "3.11.10"
  }
 },
 "nbformat": 4,
 "nbformat_minor": 5
}
