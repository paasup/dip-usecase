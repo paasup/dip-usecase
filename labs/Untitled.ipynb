{
 "cells": [
  {
   "cell_type": "code",
   "execution_count": 1,
   "id": "2e9bf3a1-f14b-4967-a115-14362479f0bf",
   "metadata": {},
   "outputs": [
    {
     "name": "stdout",
     "output_type": "stream",
     "text": [
      "이 코드는 Jupyter/IPython 환경에서 실행 중입니다.\n"
     ]
    }
   ],
   "source": [
    "def is_running_in_jupyter():\n",
    "    try:\n",
    "        # IPython 환경인지 확인\n",
    "        shell = get_ipython().__class__.__name__\n",
    "        if shell == 'ZMQInteractiveShell':\n",
    "            return True   # Jupyter Notebook 또는 QtConsole\n",
    "        elif shell == 'TerminalInteractiveShell':\n",
    "            return False  # 터미널에서 실행되는 IPython\n",
    "        else:\n",
    "            return False  # 기타 환경\n",
    "    except NameError:\n",
    "        return False      # IPython이 아님 (일반 Python 인터프리터)\n",
    "\n",
    "if is_running_in_jupyter():\n",
    "    print(\"이 코드는 Jupyter/IPython 환경에서 실행 중입니다.\")\n",
    "else:\n",
    "    print(\"이 코드는 Jupyter/IPython 환경이 아닌 곳에서 실행 중입니다.\")"
   ]
  },
  {
   "cell_type": "code",
   "execution_count": 2,
   "id": "33eeafdd-a699-4725-b66a-494d1adb89db",
   "metadata": {},
   "outputs": [
    {
     "name": "stdout",
     "output_type": "stream",
     "text": [
      "이 코드는 Airflow 환경이 아닌 곳에서 실행 중입니다.\n"
     ]
    }
   ],
   "source": [
    "import os\n",
    "\n",
    "def is_running_in_airflow():\n",
    "    # Airflow가 설정하는 대표적인 환경 변수 확인\n",
    "    if \"AIRFLOW_CTX_DAG_ID\" in os.environ or \"AIRFLOW_HOME\" in os.environ:\n",
    "        return True\n",
    "    return False\n",
    "\n",
    "if is_running_in_airflow():\n",
    "    print(\"이 코드는 Airflow 환경에서 실행 중입니다.\")\n",
    "else:\n",
    "    print(\"이 코드는 Airflow 환경이 아닌 곳에서 실행 중입니다.\")"
   ]
  }
 ],
 "metadata": {
  "kernelspec": {
   "display_name": "Python 3 (ipykernel)",
   "language": "python",
   "name": "python3"
  },
  "language_info": {
   "codemirror_mode": {
    "name": "ipython",
    "version": 3
   },
   "file_extension": ".py",
   "mimetype": "text/x-python",
   "name": "python",
   "nbconvert_exporter": "python",
   "pygments_lexer": "ipython3",
   "version": "3.11.10"
  }
 },
 "nbformat": 4,
 "nbformat_minor": 5
}
